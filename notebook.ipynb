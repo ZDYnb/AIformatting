{
  "cells": [
    {
      "cell_type": "markdown",
      "metadata": {
        "id": "C5BGULZKCGIU"
      },
      "source": [
        "## OpenLane Colab\n",
        "\n",
        "This Google Colab notebook will:\n",
        "* Install OpenLane and its dependencies\n",
        "* Run a simple design, namely a serial-parallel multiplier, through the flow\n",
        "  and targeting the [open source sky130 PDK](https://github.com/google/skywater-pdk/)\n",
        "  by Google and Skywater."
      ]
    },
    {
      "cell_type": "code",
      "execution_count": 3,
      "metadata": {
        "id": "vItVFFxeCGIW"
      },
      "outputs": [],
      "source": [
        "# @title Setup Nix {display-mode: \"form\"}\n",
        "# @markdown <img src=\"https://raw.githubusercontent.com/NixOS/nixos-artwork/master/logo/nix-snowflake.svg\" width=\"32\"/>\n",
        "# @markdown\n",
        "# @markdown Nix is a package manager with an emphasis on reproducible builds,\n",
        "# @markdown and it is the primary method for installing OpenLane 2.\n",
        "# @markdown\n",
        "# @markdown This step installs the Nix package manager and enables the\n",
        "# @markdown experimental \"flakes\" feature.\n",
        "# @markdown\n",
        "# @markdown If you're not in a Colab, this just sets the environment variables.\n",
        "# @markdown You will need to install Nix and enable flakes on your own following\n",
        "# @markdown [this guide](https://openlane2.readthedocs.io/en/stable/getting_started/common/nix_installation/index.html).\n",
        "import os\n",
        "import sys\n",
        "import shutil\n",
        "\n",
        "os.environ[\"LOCALE_ARCHIVE\"] = \"/usr/lib/locale/locale-archive\"\n",
        "\n",
        "if \"google.colab\" in sys.modules:\n",
        "    if shutil.which(\"nix-env\") is None:\n",
        "        !curl -L https://nixos.org/nix/install | bash -s -- --daemon --yes\n",
        "        !echo \"extra-experimental-features = nix-command flakes\" >> /etc/nix/nix.conf\n",
        "        !killall nix-daemon\n",
        "else:\n",
        "    if shutil.which(\"nix-env\") is None:\n",
        "        raise RuntimeError(\"Nix is not installed!\")\n",
        "\n",
        "os.environ[\"PATH\"] = f\"/nix/var/nix/profiles/default/bin/:{os.getenv('PATH')}\""
      ]
    },
    {
      "cell_type": "code",
      "execution_count": 4,
      "metadata": {
        "id": "oWhMpAvxCGIX",
        "outputId": "ded472ce-5698-41f5-89d2-9c9cd3ed2b1d",
        "colab": {
          "base_uri": "https://localhost:8080/",
          "height": 426,
          "referenced_widgets": [
            "c36431e4854140e791d84909abadc3f0",
            "97178f37166440d3ab61041f0017a033",
            "ca3009fca01840959b3986fd463e66df",
            "aeb3868a30f141428f19ee6e9f94b1e2",
            "846661c65e6f478fa9800d064fc59751",
            "77029b1137814e19ab80f180e8a6383d",
            "504f8c21d3bb478d95178a0456cf26fe",
            "3e1f1267c6d34708a12f8f0b509f5a55",
            "572e2a1a6cae4e3897401da3e0e20525",
            "42319a9cfaa546d9a5744a6547fc43d2",
            "8307670c5b414de39b42b2e364b61140",
            "28564d805c01449aa0e9f02378f9842a",
            "79e2b98a400a4899a3e85a850c756ee4",
            "4fe9154f851943d989bcade5b25ae951",
            "e328525bf2684e68a3ddb8b06a9588cf",
            "418acb1fe7ac429d83906e5864035ef8",
            "a2fbc8e70200414b9a4f26eadd594cab",
            "dbd8102051d44dca9d1aa3b2e7e37be4",
            "b953631cd2024d188a13948d754ff85c",
            "3b8866208c3544709f814c123ab55e15",
            "9100d2c2d79341898d9ebd212a92e817",
            "16351a1a53fc42368ebe33fc0e5a9d4e",
            "d6da7197e4b945fa96081068c9f123fb",
            "d7fdb1d74e63444cb90f4aa9df695dbf",
            "f2b139baa8a64158b12b156fa51977bf",
            "e16b2289cd724bd1b5c9289d1811c887"
          ]
        }
      },
      "outputs": [
        {
          "output_type": "display_data",
          "data": {
            "text/plain": [
              "<IPython.core.display.HTML object>"
            ],
            "text/html": [
              "<h3>Downloading OpenLane…</a>"
            ]
          },
          "metadata": {}
        },
        {
          "output_type": "stream",
          "name": "stdout",
          "text": [
            "  % Total    % Received % Xferd  Average Speed   Time    Time     Time  Current\n",
            "                                 Dload  Upload   Total   Spent    Left  Speed\n",
            "  0     0    0     0    0     0      0      0 --:--:-- --:--:-- --:--:--     0\n",
            "100 9491k    0 9491k    0     0  7897k      0 --:--:--  0:00:01 --:--:-- 31.1M\n"
          ]
        },
        {
          "output_type": "display_data",
          "data": {
            "text/plain": [
              "<IPython.core.display.HTML object>"
            ],
            "text/html": [
              "<h3>Downloading OpenLane's dependencies…</a>"
            ]
          },
          "metadata": {}
        },
        {
          "output_type": "display_data",
          "data": {
            "text/plain": [
              "<IPython.core.display.HTML object>"
            ],
            "text/html": [
              "<h3>Downloading Python dependencies using PIP…</a>"
            ]
          },
          "metadata": {}
        },
        {
          "output_type": "display_data",
          "data": {
            "text/plain": [
              "<IPython.core.display.HTML object>"
            ],
            "text/html": [
              "<h3>Downloading PDK…</a>"
            ]
          },
          "metadata": {}
        },
        {
          "output_type": "display_data",
          "data": {
            "text/plain": [
              "Version bdc9412b3e468c102d01b7cf6337be06ec6e9c9a not found locally, attempting to download…\n"
            ],
            "text/html": [
              "<pre style=\"white-space:pre;overflow-x:auto;line-height:normal;font-family:Menlo,'DejaVu Sans Mono',consolas,'Courier New',monospace\">Version bdc9412b3e468c102d01b7cf6337be06ec6e9c9a not found locally, attempting to download…\n",
              "</pre>\n"
            ]
          },
          "metadata": {}
        },
        {
          "output_type": "display_data",
          "data": {
            "text/plain": [
              "Output()"
            ],
            "application/vnd.jupyter.widget-view+json": {
              "version_major": 2,
              "version_minor": 0,
              "model_id": "c36431e4854140e791d84909abadc3f0"
            }
          },
          "metadata": {}
        },
        {
          "output_type": "display_data",
          "data": {
            "text/plain": [],
            "text/html": [
              "<pre style=\"white-space:pre;overflow-x:auto;line-height:normal;font-family:Menlo,'DejaVu Sans Mono',consolas,'Courier New',monospace\"></pre>\n"
            ]
          },
          "metadata": {}
        },
        {
          "output_type": "display_data",
          "data": {
            "text/plain": [
              "Output()"
            ],
            "application/vnd.jupyter.widget-view+json": {
              "version_major": 2,
              "version_minor": 0,
              "model_id": "ca3009fca01840959b3986fd463e66df"
            }
          },
          "metadata": {}
        },
        {
          "output_type": "display_data",
          "data": {
            "text/plain": [],
            "text/html": [
              "<pre style=\"white-space:pre;overflow-x:auto;line-height:normal;font-family:Menlo,'DejaVu Sans Mono',consolas,'Courier New',monospace\"></pre>\n"
            ]
          },
          "metadata": {}
        },
        {
          "output_type": "display_data",
          "data": {
            "text/plain": [
              "Output()"
            ],
            "application/vnd.jupyter.widget-view+json": {
              "version_major": 2,
              "version_minor": 0,
              "model_id": "846661c65e6f478fa9800d064fc59751"
            }
          },
          "metadata": {}
        },
        {
          "output_type": "display_data",
          "data": {
            "text/plain": [],
            "text/html": [
              "<pre style=\"white-space:pre;overflow-x:auto;line-height:normal;font-family:Menlo,'DejaVu Sans Mono',consolas,'Courier New',monospace\"></pre>\n"
            ]
          },
          "metadata": {}
        },
        {
          "output_type": "display_data",
          "data": {
            "text/plain": [
              "Output()"
            ],
            "application/vnd.jupyter.widget-view+json": {
              "version_major": 2,
              "version_minor": 0,
              "model_id": "504f8c21d3bb478d95178a0456cf26fe"
            }
          },
          "metadata": {}
        },
        {
          "output_type": "display_data",
          "data": {
            "text/plain": [],
            "text/html": [
              "<pre style=\"white-space:pre;overflow-x:auto;line-height:normal;font-family:Menlo,'DejaVu Sans Mono',consolas,'Courier New',monospace\"></pre>\n"
            ]
          },
          "metadata": {}
        },
        {
          "output_type": "display_data",
          "data": {
            "text/plain": [
              "Output()"
            ],
            "application/vnd.jupyter.widget-view+json": {
              "version_major": 2,
              "version_minor": 0,
              "model_id": "572e2a1a6cae4e3897401da3e0e20525"
            }
          },
          "metadata": {}
        },
        {
          "output_type": "display_data",
          "data": {
            "text/plain": [],
            "text/html": [
              "<pre style=\"white-space:pre;overflow-x:auto;line-height:normal;font-family:Menlo,'DejaVu Sans Mono',consolas,'Courier New',monospace\"></pre>\n"
            ]
          },
          "metadata": {}
        },
        {
          "output_type": "display_data",
          "data": {
            "text/plain": [
              "Output()"
            ],
            "application/vnd.jupyter.widget-view+json": {
              "version_major": 2,
              "version_minor": 0,
              "model_id": "8307670c5b414de39b42b2e364b61140"
            }
          },
          "metadata": {}
        },
        {
          "output_type": "display_data",
          "data": {
            "text/plain": [],
            "text/html": [
              "<pre style=\"white-space:pre;overflow-x:auto;line-height:normal;font-family:Menlo,'DejaVu Sans Mono',consolas,'Courier New',monospace\"></pre>\n"
            ]
          },
          "metadata": {}
        },
        {
          "output_type": "display_data",
          "data": {
            "text/plain": [
              "Output()"
            ],
            "application/vnd.jupyter.widget-view+json": {
              "version_major": 2,
              "version_minor": 0,
              "model_id": "79e2b98a400a4899a3e85a850c756ee4"
            }
          },
          "metadata": {}
        },
        {
          "output_type": "display_data",
          "data": {
            "text/plain": [],
            "text/html": [
              "<pre style=\"white-space:pre;overflow-x:auto;line-height:normal;font-family:Menlo,'DejaVu Sans Mono',consolas,'Courier New',monospace\"></pre>\n"
            ]
          },
          "metadata": {}
        },
        {
          "output_type": "display_data",
          "data": {
            "text/plain": [
              "Output()"
            ],
            "application/vnd.jupyter.widget-view+json": {
              "version_major": 2,
              "version_minor": 0,
              "model_id": "e328525bf2684e68a3ddb8b06a9588cf"
            }
          },
          "metadata": {}
        },
        {
          "output_type": "display_data",
          "data": {
            "text/plain": [],
            "text/html": [
              "<pre style=\"white-space:pre;overflow-x:auto;line-height:normal;font-family:Menlo,'DejaVu Sans Mono',consolas,'Courier New',monospace\"></pre>\n"
            ]
          },
          "metadata": {}
        },
        {
          "output_type": "display_data",
          "data": {
            "text/plain": [
              "Output()"
            ],
            "application/vnd.jupyter.widget-view+json": {
              "version_major": 2,
              "version_minor": 0,
              "model_id": "a2fbc8e70200414b9a4f26eadd594cab"
            }
          },
          "metadata": {}
        },
        {
          "output_type": "display_data",
          "data": {
            "text/plain": [],
            "text/html": [
              "<pre style=\"white-space:pre;overflow-x:auto;line-height:normal;font-family:Menlo,'DejaVu Sans Mono',consolas,'Courier New',monospace\"></pre>\n"
            ]
          },
          "metadata": {}
        },
        {
          "output_type": "display_data",
          "data": {
            "text/plain": [
              "Output()"
            ],
            "application/vnd.jupyter.widget-view+json": {
              "version_major": 2,
              "version_minor": 0,
              "model_id": "b953631cd2024d188a13948d754ff85c"
            }
          },
          "metadata": {}
        },
        {
          "output_type": "display_data",
          "data": {
            "text/plain": [],
            "text/html": [
              "<pre style=\"white-space:pre;overflow-x:auto;line-height:normal;font-family:Menlo,'DejaVu Sans Mono',consolas,'Courier New',monospace\"></pre>\n"
            ]
          },
          "metadata": {}
        },
        {
          "output_type": "display_data",
          "data": {
            "text/plain": [
              "Output()"
            ],
            "application/vnd.jupyter.widget-view+json": {
              "version_major": 2,
              "version_minor": 0,
              "model_id": "9100d2c2d79341898d9ebd212a92e817"
            }
          },
          "metadata": {}
        },
        {
          "output_type": "display_data",
          "data": {
            "text/plain": [],
            "text/html": [
              "<pre style=\"white-space:pre;overflow-x:auto;line-height:normal;font-family:Menlo,'DejaVu Sans Mono',consolas,'Courier New',monospace\"></pre>\n"
            ]
          },
          "metadata": {}
        },
        {
          "output_type": "display_data",
          "data": {
            "text/plain": [],
            "text/html": [
              "<pre style=\"white-space:pre;overflow-x:auto;line-height:normal;font-family:Menlo,'DejaVu Sans Mono',consolas,'Courier New',monospace\"></pre>\n"
            ]
          },
          "metadata": {}
        },
        {
          "output_type": "display_data",
          "data": {
            "text/plain": [
              "Output()"
            ],
            "application/vnd.jupyter.widget-view+json": {
              "version_major": 2,
              "version_minor": 0,
              "model_id": "d6da7197e4b945fa96081068c9f123fb"
            }
          },
          "metadata": {}
        },
        {
          "output_type": "display_data",
          "data": {
            "text/plain": [],
            "text/html": [
              "<pre style=\"white-space:pre;overflow-x:auto;line-height:normal;font-family:Menlo,'DejaVu Sans Mono',consolas,'Courier New',monospace\"></pre>\n"
            ]
          },
          "metadata": {}
        },
        {
          "output_type": "display_data",
          "data": {
            "text/plain": [
              "Output()"
            ],
            "application/vnd.jupyter.widget-view+json": {
              "version_major": 2,
              "version_minor": 0,
              "model_id": "f2b139baa8a64158b12b156fa51977bf"
            }
          },
          "metadata": {}
        },
        {
          "output_type": "display_data",
          "data": {
            "text/plain": [],
            "text/html": [
              "<pre style=\"white-space:pre;overflow-x:auto;line-height:normal;font-family:Menlo,'DejaVu Sans Mono',consolas,'Courier New',monospace\"></pre>\n"
            ]
          },
          "metadata": {}
        },
        {
          "output_type": "display_data",
          "data": {
            "text/plain": [],
            "text/html": [
              "<pre style=\"white-space:pre;overflow-x:auto;line-height:normal;font-family:Menlo,'DejaVu Sans Mono',consolas,'Courier New',monospace\"></pre>\n"
            ]
          },
          "metadata": {}
        },
        {
          "output_type": "display_data",
          "data": {
            "text/plain": [
              "Version bdc9412b3e468c102d01b7cf6337be06ec6e9c9a enabled for the sky130 PDK.\n"
            ],
            "text/html": [
              "<pre style=\"white-space:pre;overflow-x:auto;line-height:normal;font-family:Menlo,'DejaVu Sans Mono',consolas,'Courier New',monospace\">Version bdc9412b3e468c102d01b7cf6337be06ec6e9c9a enabled for the sky130 PDK.\n",
              "</pre>\n"
            ]
          },
          "metadata": {}
        },
        {
          "output_type": "display_data",
          "data": {
            "text/plain": [
              "<IPython.core.display.HTML object>"
            ],
            "text/html": [
              "<h3>⭕️ Done.</a>"
            ]
          },
          "metadata": {}
        }
      ],
      "source": [
        "# @title Get OpenLane {display-mode: \"form\"}\n",
        "# @markdown Click the ▷ button to download and install OpenLane.\n",
        "# @markdown\n",
        "# @markdown This will install OpenLane's tool dependencies using Nix,\n",
        "# @markdown and OpenLane itself using PIP.\n",
        "# @markdown\n",
        "# @markdown Note that `python3-tk` may need to be installed using your OS's\n",
        "# @markdown package manager.\n",
        "import os\n",
        "import subprocess\n",
        "import IPython\n",
        "\n",
        "openlane_version = \"version-2.1\"  # @param {key:\"OpenLane Version\", type:\"string\"}\n",
        "\n",
        "if openlane_version == \"latest\":\n",
        "    openlane_version = \"main\"\n",
        "\n",
        "pdk_root = \"~/.volare\"  # @param {key:\"PDK Root\", type:\"string\"}\n",
        "\n",
        "pdk_root = os.path.expanduser(pdk_root)\n",
        "\n",
        "pdk = \"sky130\"  # @param {key:\"PDK (without the variant)\", type:\"string\"}\n",
        "\n",
        "openlane_ipynb_path = os.path.join(os.getcwd(), \"openlane_ipynb\")\n",
        "\n",
        "display(IPython.display.HTML(\"<h3>Downloading OpenLane…</a>\"))\n",
        "\n",
        "\n",
        "TESTING_LOCALLY = False\n",
        "!rm -rf {openlane_ipynb_path}\n",
        "!mkdir -p {openlane_ipynb_path}\n",
        "if TESTING_LOCALLY:\n",
        "    !ln -s {os.getcwd()} {openlane_ipynb_path}\n",
        "else:\n",
        "    !curl -L \"https://github.com/efabless/openlane2/tarball/{openlane_version}\" | tar -xzC {openlane_ipynb_path} --strip-components 1\n",
        "\n",
        "try:\n",
        "    import tkinter\n",
        "except ImportError:\n",
        "    if \"google.colab\" in sys.modules:\n",
        "        !sudo apt-get install python-tk\n",
        "\n",
        "try:\n",
        "    import tkinter\n",
        "except ImportError as e:\n",
        "    display(\n",
        "        IPython.display.HTML(\n",
        "            '<h3 style=\"color: #800020\";>❌ Failed to import the <code>tkinter</code> library for Python, which is required to load PDK configuration values. Make sure <code>python3-tk</code> or equivalent is installed on your system.</a>'\n",
        "        )\n",
        "    )\n",
        "    raise e from None\n",
        "\n",
        "\n",
        "display(IPython.display.HTML(\"<h3>Downloading OpenLane's dependencies…</a>\"))\n",
        "try:\n",
        "    subprocess.check_call(\n",
        "        [\"nix\", \"profile\", \"install\", \".#colab-env\", \"--accept-flake-config\"],\n",
        "        cwd=openlane_ipynb_path,\n",
        "    )\n",
        "except subprocess.CalledProcessError as e:\n",
        "    display(\n",
        "        IPython.display.HTML(\n",
        "            '<h3 style=\"color: #800020\";>❌ Failed to install binary dependencies using Nix…</h3>'\n",
        "        )\n",
        "    )\n",
        "\n",
        "display(IPython.display.HTML(\"<h3>Downloading Python dependencies using PIP…</a>\"))\n",
        "try:\n",
        "    subprocess.check_call(\n",
        "        [\"pip3\", \"install\", \".\"],\n",
        "        cwd=openlane_ipynb_path,\n",
        "    )\n",
        "except subprocess.CalledProcessError as e:\n",
        "    display(\n",
        "        IPython.display.HTML(\n",
        "            '<h3 style=\"color: #800020\";>❌ Failed to install Python dependencies using PIP…</h3>'\n",
        "        )\n",
        "    )\n",
        "    raise e from None\n",
        "\n",
        "display(IPython.display.HTML(\"<h3>Downloading PDK…</a>\"))\n",
        "import volare\n",
        "\n",
        "volare.enable(\n",
        "    volare.get_volare_home(pdk_root),\n",
        "    pdk,\n",
        "    open(\n",
        "        os.path.join(openlane_ipynb_path, \"openlane\", \"open_pdks_rev\"),\n",
        "        encoding=\"utf8\",\n",
        "    )\n",
        "    .read()\n",
        "    .strip(),\n",
        ")\n",
        "\n",
        "sys.path.insert(0, openlane_ipynb_path)\n",
        "display(IPython.display.HTML(\"<h3>⭕️ Done.</a>\"))\n",
        "\n",
        "import logging\n",
        "\n",
        "# Remove the stupid default colab logging handler\n",
        "logging.getLogger().handlers.clear()"
      ]
    },
    {
      "cell_type": "code",
      "execution_count": 5,
      "metadata": {
        "id": "RG0Ar29LCGIY",
        "outputId": "b0b9c5ac-27e2-4272-eea7-21e02a9051f1",
        "colab": {
          "base_uri": "https://localhost:8080/"
        }
      },
      "outputs": [
        {
          "output_type": "stream",
          "name": "stdout",
          "text": [
            "2.1.11\n"
          ]
        }
      ],
      "source": [
        "import openlane\n",
        "\n",
        "print(openlane.__version__)"
      ]
    },
    {
      "cell_type": "markdown",
      "metadata": {
        "id": "52rG31YaCGIY"
      },
      "source": [
        "### Creating the design\n",
        "\n",
        "Now that OpenLane is set up, we can write a Verilog file as follows:"
      ]
    },
    {
      "cell_type": "code",
      "execution_count": null,
      "metadata": {
        "id": "fLHI_rtrCGIZ"
      },
      "outputs": [],
      "source": [
        "%%writefile spm.v\n",
        "// ===========================================\n",
        "// 4×4 Systolic Array with FSM Controller\n",
        "// Pure Verilog Design\n",
        "// ===========================================\n",
        "\n",
        "`timescale 1ns/1ps\n",
        "\n",
        "// ===========================================\n",
        "// FSM-Controlled 4×4 Systolic Array Top Module\n",
        "// ===========================================\n",
        "module systolic_array_4x4 (\n",
        "    input         clk,\n",
        "    input         rst_n,\n",
        "    input         start,              // Start computation\n",
        "\n",
        "    // Matrix A inputs (row-wise)\n",
        "    input  [15:0] matrix_a_00, matrix_a_01, matrix_a_02, matrix_a_03,\n",
        "    input  [15:0] matrix_a_10, matrix_a_11, matrix_a_12, matrix_a_13,\n",
        "    input  [15:0] matrix_a_20, matrix_a_21, matrix_a_22, matrix_a_23,\n",
        "    input  [15:0] matrix_a_30, matrix_a_31, matrix_a_32, matrix_a_33,\n",
        "\n",
        "    // Matrix B inputs (column-wise)\n",
        "    input  [7:0]  matrix_b_00, matrix_b_01, matrix_b_02, matrix_b_03,\n",
        "    input  [7:0]  matrix_b_10, matrix_b_11, matrix_b_12, matrix_b_13,\n",
        "    input  [7:0]  matrix_b_20, matrix_b_21, matrix_b_22, matrix_b_23,\n",
        "    input  [7:0]  matrix_b_30, matrix_b_31, matrix_b_32, matrix_b_33,\n",
        "\n",
        "    // Results output (4×4 matrix)\n",
        "    output [31:0] result_00, result_01, result_02, result_03,\n",
        "    output [31:0] result_10, result_11, result_12, result_13,\n",
        "    output [31:0] result_20, result_21, result_22, result_23,\n",
        "    output [31:0] result_30, result_31, result_32, result_33,\n",
        "\n",
        "    output        computation_done,\n",
        "    output        result_valid\n",
        ");\n",
        "\n",
        "    // FSM States\n",
        "    parameter IDLE       = 3'b000;\n",
        "    parameter LOAD_DATA  = 3'b001;\n",
        "    parameter COMPUTE    = 3'b010;\n",
        "    parameter DRAIN      = 3'b011;\n",
        "    parameter DONE       = 3'b100;\n",
        "\n",
        "    // FSM signals\n",
        "    reg [2:0] current_state, next_state;\n",
        "    reg [3:0] cycle_counter;\n",
        "    reg [3:0] compute_counter;\n",
        "\n",
        "    // Control signals\n",
        "    reg enable_pe;\n",
        "    reg clear_accum_pe;\n",
        "    reg data_feed_enable;\n",
        "    reg weight_feed_enable;\n",
        "\n",
        "    // Data input scheduling registers\n",
        "    reg [15:0] data_schedule [0:6][0:3];  // 7 cycles, 4 data inputs\n",
        "    reg [7:0]  weight_schedule [0:6][0:3]; // 7 cycles, 4 weight inputs\n",
        "    reg        data_valid_schedule [0:6][0:3];\n",
        "    reg        weight_valid_schedule [0:6][0:3];\n",
        "\n",
        "    // Current cycle inputs to PE array\n",
        "    reg [15:0] data_in_0, data_in_1, data_in_2, data_in_3;\n",
        "    reg [7:0]  weight_in_0, weight_in_1, weight_in_2, weight_in_3;\n",
        "    reg        data_valid_0, data_valid_1, data_valid_2, data_valid_3;\n",
        "    reg        weight_valid_0, weight_valid_1, weight_valid_2, weight_valid_3;\n",
        "\n",
        "    // Internal PE interconnects\n",
        "    wire [15:0] data_h_0_1, data_h_0_2, data_h_0_3, data_h_0_4;\n",
        "    wire [15:0] data_h_1_1, data_h_1_2, data_h_1_3, data_h_1_4;\n",
        "    wire [15:0] data_h_2_1, data_h_2_2, data_h_2_3, data_h_2_4;\n",
        "    wire [15:0] data_h_3_1, data_h_3_2, data_h_3_3, data_h_3_4;\n",
        "\n",
        "    wire data_valid_h_0_1, data_valid_h_0_2, data_valid_h_0_3, data_valid_h_0_4;\n",
        "    wire data_valid_h_1_1, data_valid_h_1_2, data_valid_h_1_3, data_valid_h_1_4;\n",
        "    wire data_valid_h_2_1, data_valid_h_2_2, data_valid_h_2_3, data_valid_h_2_4;\n",
        "    wire data_valid_h_3_1, data_valid_h_3_2, data_valid_h_3_3, data_valid_h_3_4;\n",
        "\n",
        "    wire [7:0] weight_v_1_0, weight_v_2_0, weight_v_3_0, weight_v_4_0;\n",
        "    wire [7:0] weight_v_1_1, weight_v_2_1, weight_v_3_1, weight_v_4_1;\n",
        "    wire [7:0] weight_v_1_2, weight_v_2_2, weight_v_3_2, weight_v_4_2;\n",
        "    wire [7:0] weight_v_1_3, weight_v_2_3, weight_v_3_3, weight_v_4_3;\n",
        "\n",
        "    wire weight_valid_v_1_0, weight_valid_v_2_0, weight_valid_v_3_0, weight_valid_v_4_0;\n",
        "    wire weight_valid_v_1_1, weight_valid_v_2_1, weight_valid_v_3_1, weight_valid_v_4_1;\n",
        "    wire weight_valid_v_1_2, weight_valid_v_2_2, weight_valid_v_3_2, weight_valid_v_4_2;\n",
        "    wire weight_valid_v_1_3, weight_valid_v_2_3, weight_valid_v_3_3, weight_valid_v_4_3;\n",
        "\n",
        "    wire valid_00, valid_01, valid_02, valid_03;\n",
        "    wire valid_10, valid_11, valid_12, valid_13;\n",
        "    wire valid_20, valid_21, valid_22, valid_23;\n",
        "    wire valid_30, valid_31, valid_32, valid_33;\n",
        "\n",
        "    // ===========================================\n",
        "    // FSM State Machine\n",
        "    // ===========================================\n",
        "\n",
        "    // State register\n",
        "    always @(posedge clk or negedge rst_n) begin\n",
        "        if (!rst_n)\n",
        "            current_state <= IDLE;\n",
        "        else\n",
        "            current_state <= next_state;\n",
        "    end\n",
        "\n",
        "    // Next state logic\n",
        "    always @(*) begin\n",
        "        case (current_state)\n",
        "            IDLE: begin\n",
        "                if (start)\n",
        "                    next_state = LOAD_DATA;\n",
        "                else\n",
        "                    next_state = IDLE;\n",
        "            end\n",
        "\n",
        "            LOAD_DATA: begin\n",
        "                if (cycle_counter == 4'd6)  // 7 cycles (0-6) for loading\n",
        "                    next_state = COMPUTE;\n",
        "                else\n",
        "                    next_state = LOAD_DATA;\n",
        "            end\n",
        "\n",
        "            COMPUTE: begin\n",
        "                if (compute_counter == 4'd7)  // Additional compute cycles\n",
        "                    next_state = DRAIN;\n",
        "                else\n",
        "                    next_state = COMPUTE;\n",
        "            end\n",
        "\n",
        "            DRAIN: begin\n",
        "                if (cycle_counter == 4'd3)  // Drain pipeline\n",
        "                    next_state = DONE;\n",
        "                else\n",
        "                    next_state = DRAIN;\n",
        "            end\n",
        "\n",
        "            DONE: begin\n",
        "                next_state = IDLE;\n",
        "            end\n",
        "\n",
        "            default: next_state = IDLE;\n",
        "        endcase\n",
        "    end\n",
        "\n",
        "    // Counter management\n",
        "    always @(posedge clk or negedge rst_n) begin\n",
        "        if (!rst_n) begin\n",
        "            cycle_counter <= 4'd0;\n",
        "            compute_counter <= 4'd0;\n",
        "        end else begin\n",
        "            case (current_state)\n",
        "                IDLE: begin\n",
        "                    cycle_counter <= 4'd0;\n",
        "                    compute_counter <= 4'd0;\n",
        "                end\n",
        "\n",
        "                LOAD_DATA: begin\n",
        "                    if (cycle_counter < 4'd6)\n",
        "                        cycle_counter <= cycle_counter + 1;\n",
        "                end\n",
        "\n",
        "                COMPUTE: begin\n",
        "                    cycle_counter <= 4'd0;  // Reset for drain phase\n",
        "                    if (compute_counter < 4'd7)\n",
        "                        compute_counter <= compute_counter + 1;\n",
        "                end\n",
        "\n",
        "                DRAIN: begin\n",
        "                    if (cycle_counter < 4'd3)\n",
        "                        cycle_counter <= cycle_counter + 1;\n",
        "                end\n",
        "\n",
        "                DONE: begin\n",
        "                    cycle_counter <= 4'd0;\n",
        "                    compute_counter <= 4'd0;\n",
        "                end\n",
        "            endcase\n",
        "        end\n",
        "    end\n",
        "\n",
        "    // Control signal generation\n",
        "    always @(*) begin\n",
        "        enable_pe = 1'b0;\n",
        "        clear_accum_pe = 1'b0;\n",
        "        data_feed_enable = 1'b0;\n",
        "        weight_feed_enable = 1'b0;\n",
        "\n",
        "        case (current_state)\n",
        "            IDLE: begin\n",
        "                clear_accum_pe = 1'b1;\n",
        "            end\n",
        "\n",
        "            LOAD_DATA: begin\n",
        "                enable_pe = 1'b1;\n",
        "                data_feed_enable = 1'b1;\n",
        "                weight_feed_enable = 1'b1;\n",
        "                if (cycle_counter == 4'd0)\n",
        "                    clear_accum_pe = 1'b1;\n",
        "            end\n",
        "\n",
        "            COMPUTE: begin\n",
        "                enable_pe = 1'b1;\n",
        "            end\n",
        "\n",
        "            DRAIN: begin\n",
        "                enable_pe = 1'b1;\n",
        "            end\n",
        "\n",
        "            DONE: begin\n",
        "                // Results are ready\n",
        "            end\n",
        "        endcase\n",
        "    end\n",
        "\n",
        "    // ===========================================\n",
        "    // Data Scheduling Logic\n",
        "    // ===========================================\n",
        "\n",
        "    // Initialize data schedule for systolic loading pattern\n",
        "    always @(posedge clk or negedge rst_n) begin\n",
        "        if (!rst_n) begin\n",
        "            // Clear all schedules\n",
        "            data_schedule[0][0] <= 16'd0; data_schedule[0][1] <= 16'd0; data_schedule[0][2] <= 16'd0; data_schedule[0][3] <= 16'd0;\n",
        "            data_schedule[1][0] <= 16'd0; data_schedule[1][1] <= 16'd0; data_schedule[1][2] <= 16'd0; data_schedule[1][3] <= 16'd0;\n",
        "            data_schedule[2][0] <= 16'd0; data_schedule[2][1] <= 16'd0; data_schedule[2][2] <= 16'd0; data_schedule[2][3] <= 16'd0;\n",
        "            data_schedule[3][0] <= 16'd0; data_schedule[3][1] <= 16'd0; data_schedule[3][2] <= 16'd0; data_schedule[3][3] <= 16'd0;\n",
        "            data_schedule[4][0] <= 16'd0; data_schedule[4][1] <= 16'd0; data_schedule[4][2] <= 16'd0; data_schedule[4][3] <= 16'd0;\n",
        "            data_schedule[5][0] <= 16'd0; data_schedule[5][1] <= 16'd0; data_schedule[5][2] <= 16'd0; data_schedule[5][3] <= 16'd0;\n",
        "            data_schedule[6][0] <= 16'd0; data_schedule[6][1] <= 16'd0; data_schedule[6][2] <= 16'd0; data_schedule[6][3] <= 16'd0;\n",
        "        end else if (start) begin\n",
        "            // Systolic loading pattern for Matrix A\n",
        "            // Cycle 0\n",
        "            data_schedule[0][0] <= matrix_a_00; data_schedule[0][1] <= 16'd0;      data_schedule[0][2] <= 16'd0;      data_schedule[0][3] <= 16'd0;\n",
        "            // Cycle 1\n",
        "            data_schedule[1][0] <= matrix_a_01; data_schedule[1][1] <= matrix_a_10; data_schedule[1][2] <= 16'd0;      data_schedule[1][3] <= 16'd0;\n",
        "            // Cycle 2\n",
        "            data_schedule[2][0] <= matrix_a_02; data_schedule[2][1] <= matrix_a_11; data_schedule[2][2] <= matrix_a_20; data_schedule[2][3] <= 16'd0;\n",
        "            // Cycle 3\n",
        "            data_schedule[3][0] <= matrix_a_03; data_schedule[3][1] <= matrix_a_12; data_schedule[3][2] <= matrix_a_21; data_schedule[3][3] <= matrix_a_30;\n",
        "            // Cycle 4\n",
        "            data_schedule[4][0] <= 16'd0;      data_schedule[4][1] <= matrix_a_13; data_schedule[4][2] <= matrix_a_22; data_schedule[4][3] <= matrix_a_31;\n",
        "            // Cycle 5\n",
        "            data_schedule[5][0] <= 16'd0;      data_schedule[5][1] <= 16'd0;      data_schedule[5][2] <= matrix_a_23; data_schedule[5][3] <= matrix_a_32;\n",
        "            // Cycle 6\n",
        "            data_schedule[6][0] <= 16'd0;      data_schedule[6][1] <= 16'd0;      data_schedule[6][2] <= 16'd0;      data_schedule[6][3] <= matrix_a_33;\n",
        "\n",
        "            // Weight scheduling pattern for Matrix B\n",
        "            weight_schedule[0][0] <= matrix_b_00; weight_schedule[0][1] <= 8'd0;       weight_schedule[0][2] <= 8'd0;       weight_schedule[0][3] <= 8'd0;\n",
        "            weight_schedule[1][0] <= matrix_b_10; weight_schedule[1][1] <= matrix_b_01; weight_schedule[1][2] <= 8'd0;       weight_schedule[1][3] <= 8'd0;\n",
        "            weight_schedule[2][0] <= matrix_b_20; weight_schedule[2][1] <= matrix_b_11; weight_schedule[2][2] <= matrix_b_02; weight_schedule[2][3] <= 8'd0;\n",
        "            weight_schedule[3][0] <= matrix_b_30; weight_schedule[3][1] <= matrix_b_21; weight_schedule[3][2] <= matrix_b_12; weight_schedule[3][3] <= matrix_b_03;\n",
        "            weight_schedule[4][0] <= 8'd0;       weight_schedule[4][1] <= matrix_b_31; weight_schedule[4][2] <= matrix_b_22; weight_schedule[4][3] <= matrix_b_13;\n",
        "            weight_schedule[5][0] <= 8'd0;       weight_schedule[5][1] <= 8'd0;       weight_schedule[5][2] <= matrix_b_32; weight_schedule[5][3] <= matrix_b_23;\n",
        "            weight_schedule[6][0] <= 8'd0;       weight_schedule[6][1] <= 8'd0;       weight_schedule[6][2] <= 8'd0;       weight_schedule[6][3] <= matrix_b_33;\n",
        "\n",
        "            // Valid signals\n",
        "            data_valid_schedule[0][0] <= 1'b1; data_valid_schedule[0][1] <= 1'b0; data_valid_schedule[0][2] <= 1'b0; data_valid_schedule[0][3] <= 1'b0;\n",
        "            data_valid_schedule[1][0] <= 1'b1; data_valid_schedule[1][1] <= 1'b1; data_valid_schedule[1][2] <= 1'b0; data_valid_schedule[1][3] <= 1'b0;\n",
        "            data_valid_schedule[2][0] <= 1'b1; data_valid_schedule[2][1] <= 1'b1; data_valid_schedule[2][2] <= 1'b1; data_valid_schedule[2][3] <= 1'b0;\n",
        "            data_valid_schedule[3][0] <= 1'b1; data_valid_schedule[3][1] <= 1'b1; data_valid_schedule[3][2] <= 1'b1; data_valid_schedule[3][3] <= 1'b1;\n",
        "            data_valid_schedule[4][0] <= 1'b0; data_valid_schedule[4][1] <= 1'b1; data_valid_schedule[4][2] <= 1'b1; data_valid_schedule[4][3] <= 1'b1;\n",
        "            data_valid_schedule[5][0] <= 1'b0; data_valid_schedule[5][1] <= 1'b0; data_valid_schedule[5][2] <= 1'b1; data_valid_schedule[5][3] <= 1'b1;\n",
        "            data_valid_schedule[6][0] <= 1'b0; data_valid_schedule[6][1] <= 1'b0; data_valid_schedule[6][2] <= 1'b0; data_valid_schedule[6][3] <= 1'b1;\n",
        "\n",
        "            weight_valid_schedule[0][0] <= 1'b1; weight_valid_schedule[0][1] <= 1'b0; weight_valid_schedule[0][2] <= 1'b0; weight_valid_schedule[0][3] <= 1'b0;\n",
        "            weight_valid_schedule[1][0] <= 1'b1; weight_valid_schedule[1][1] <= 1'b1; weight_valid_schedule[1][2] <= 1'b0; weight_valid_schedule[1][3] <= 1'b0;\n",
        "            weight_valid_schedule[2][0] <= 1'b1; weight_valid_schedule[2][1] <= 1'b1; weight_valid_schedule[2][2] <= 1'b1; weight_valid_schedule[2][3] <= 1'b0;\n",
        "            weight_valid_schedule[3][0] <= 1'b1; weight_valid_schedule[3][1] <= 1'b1; weight_valid_schedule[3][2] <= 1'b1; weight_valid_schedule[3][3] <= 1'b1;\n",
        "            weight_valid_schedule[4][0] <= 1'b0; weight_valid_schedule[4][1] <= 1'b1; weight_valid_schedule[4][2] <= 1'b1; weight_valid_schedule[4][3] <= 1'b1;\n",
        "            weight_valid_schedule[5][0] <= 1'b0; weight_valid_schedule[5][1] <= 1'b0; weight_valid_schedule[5][2] <= 1'b1; weight_valid_schedule[5][3] <= 1'b1;\n",
        "            weight_valid_schedule[6][0] <= 1'b0; weight_valid_schedule[6][1] <= 1'b0; weight_valid_schedule[6][2] <= 1'b0; weight_valid_schedule[6][3] <= 1'b1;\n",
        "        end\n",
        "    end\n",
        "\n",
        "    // Current cycle data/weight selection\n",
        "    always @(*) begin\n",
        "        if (data_feed_enable && cycle_counter <= 4'd6) begin\n",
        "            data_in_0 = data_schedule[cycle_counter][0];\n",
        "            data_in_1 = data_schedule[cycle_counter][1];\n",
        "            data_in_2 = data_schedule[cycle_counter][2];\n",
        "            data_in_3 = data_schedule[cycle_counter][3];\n",
        "\n",
        "            weight_in_0 = weight_schedule[cycle_counter][0];\n",
        "            weight_in_1 = weight_schedule[cycle_counter][1];\n",
        "            weight_in_2 = weight_schedule[cycle_counter][2];\n",
        "            weight_in_3 = weight_schedule[cycle_counter][3];\n",
        "\n",
        "            data_valid_0 = data_valid_schedule[cycle_counter][0];\n",
        "            data_valid_1 = data_valid_schedule[cycle_counter][1];\n",
        "            data_valid_2 = data_valid_schedule[cycle_counter][2];\n",
        "            data_valid_3 = data_valid_schedule[cycle_counter][3];\n",
        "\n",
        "            weight_valid_0 = weight_valid_schedule[cycle_counter][0];\n",
        "            weight_valid_1 = weight_valid_schedule[cycle_counter][1];\n",
        "            weight_valid_2 = weight_valid_schedule[cycle_counter][2];\n",
        "            weight_valid_3 = weight_valid_schedule[cycle_counter][3];\n",
        "        end else begin\n",
        "            data_in_0 = 16'd0;    data_in_1 = 16'd0;    data_in_2 = 16'd0;    data_in_3 = 16'd0;\n",
        "            weight_in_0 = 8'd0;   weight_in_1 = 8'd0;   weight_in_2 = 8'd0;   weight_in_3 = 8'd0;\n",
        "            data_valid_0 = 1'b0;  data_valid_1 = 1'b0;  data_valid_2 = 1'b0;  data_valid_3 = 1'b0;\n",
        "            weight_valid_0 = 1'b0; weight_valid_1 = 1'b0; weight_valid_2 = 1'b0; weight_valid_3 = 1'b0;\n",
        "        end\n",
        "    end\n",
        "\n",
        "    // ===========================================\n",
        "    // 4×4 Processing Element Array\n",
        "    // ===========================================\n",
        "\n",
        "    // Row 0\n",
        "    processing_element pe_00 (\n",
        "        .clk(clk), .rst_n(rst_n), .enable(enable_pe), .clear_accum(clear_accum_pe),\n",
        "        .data_in(data_in_0), .data_valid_in(data_valid_0),\n",
        "        .data_out(data_h_0_1), .data_valid_out(data_valid_h_0_1),\n",
        "        .weight_in(weight_in_0), .weight_valid_in(weight_valid_0),\n",
        "        .weight_out(weight_v_1_0), .weight_valid_out(weight_valid_v_1_0),\n",
        "        .accum_out(result_00), .result_valid(valid_00)\n",
        "    );\n",
        "\n",
        "    processing_element pe_01 (\n",
        "        .clk(clk), .rst_n(rst_n), .enable(enable_pe), .clear_accum(clear_accum_pe),\n",
        "        .data_in(data_h_0_1), .data_valid_in(data_valid_h_0_1),\n",
        "        .data_out(data_h_0_2), .data_valid_out(data_valid_h_0_2),\n",
        "        .weight_in(weight_in_1), .weight_valid_in(weight_valid_1),\n",
        "        .weight_out(weight_v_1_1), .weight_valid_out(weight_valid_v_1_1),\n",
        "        .accum_out(result_01), .result_valid(valid_01)\n",
        "    );\n",
        "\n",
        "    processing_element pe_02 (\n",
        "        .clk(clk), .rst_n(rst_n), .enable(enable_pe), .clear_accum(clear_accum_pe),\n",
        "        .data_in(data_h_0_2), .data_valid_in(data_valid_h_0_2),\n",
        "        .data_out(data_h_0_3), .data_valid_out(data_valid_h_0_3),\n",
        "        .weight_in(weight_in_2), .weight_valid_in(weight_valid_2),\n",
        "        .weight_out(weight_v_1_2), .weight_valid_out(weight_valid_v_1_2),\n",
        "        .accum_out(result_02), .result_valid(valid_02)\n",
        "    );\n",
        "\n",
        "    processing_element pe_03 (\n",
        "        .clk(clk), .rst_n(rst_n), .enable(enable_pe), .clear_accum(clear_accum_pe),\n",
        "        .data_in(data_h_0_3), .data_valid_in(data_valid_h_0_3),\n",
        "        .data_out(data_h_0_4), .data_valid_out(data_valid_h_0_4),\n",
        "        .weight_in(weight_in_3), .weight_valid_in(weight_valid_3),\n",
        "        .weight_out(weight_v_1_3), .weight_valid_out(weight_valid_v_1_3),\n",
        "        .accum_out(result_03), .result_valid(valid_03)\n",
        "    );\n",
        "\n",
        "    // Row 1\n",
        "    processing_element pe_10 (\n",
        "        .clk(clk), .rst_n(rst_n), .enable(enable_pe), .clear_accum(clear_accum_pe),\n",
        "        .data_in(data_in_1), .data_valid_in(data_valid_1),\n",
        "        .data_out(data_h_1_1), .data_valid_out(data_valid_h_1_1),\n",
        "        .weight_in(weight_v_1_0), .weight_valid_in(weight_valid_v_1_0),\n",
        "        .weight_out(weight_v_2_0), .weight_valid_out(weight_valid_v_2_0),\n",
        "        .accum_out(result_10), .result_valid(valid_10)\n",
        "    );\n",
        "\n",
        "    processing_element pe_11 (\n",
        "        .clk(clk), .rst_n(rst_n), .enable(enable_pe), .clear_accum(clear_accum_pe),\n",
        "        .data_in(data_h_1_1), .data_valid_in(data_valid_h_1_1),\n",
        "        .data_out(data_h_1_2), .data_valid_out(data_valid_h_1_2),\n",
        "        .weight_in(weight_v_1_1), .weight_valid_in(weight_valid_v_1_1),\n",
        "        .weight_out(weight_v_2_1), .weight_valid_out(weight_valid_v_2_1),\n",
        "        .accum_out(result_11), .result_valid(valid_11)\n",
        "    );\n",
        "\n",
        "    processing_element pe_12 (\n",
        "        .clk(clk), .rst_n(rst_n), .enable(enable_pe), .clear_accum(clear_accum_pe),\n",
        "        .data_in(data_h_1_2), .data_valid_in(data_valid_h_1_2),\n",
        "        .data_out(data_h_1_3), .data_valid_out(data_valid_h_1_3),\n",
        "        .weight_in(weight_v_1_2), .weight_valid_in(weight_valid_v_1_2),\n",
        "        .weight_out(weight_v_2_2), .weight_valid_out(weight_valid_v_2_2),\n",
        "        .accum_out(result_12), .result_valid(valid_12)\n",
        "    );\n",
        "\n",
        "    processing_element pe_13 (\n",
        "        .clk(clk), .rst_n(rst_n), .enable(enable_pe), .clear_accum(clear_accum_pe),\n",
        "        .data_in(data_h_1_3), .data_valid_in(data_valid_h_1_3),\n",
        "        .data_out(data_h_1_4), .data_valid_out(data_valid_h_1_4),\n",
        "        .weight_in(weight_v_1_3), .weight_valid_in(weight_valid_v_1_3),\n",
        "        .weight_out(weight_v_2_3), .weight_valid_out(weight_valid_v_2_3),\n",
        "        .accum_out(result_13), .result_valid(valid_13)\n",
        "    );\n",
        "\n",
        "    // Row 2\n",
        "    processing_element pe_20 (\n",
        "        .clk(clk), .rst_n(rst_n), .enable(enable_pe), .clear_accum(clear_accum_pe),\n",
        "        .data_in(data_in_2), .data_valid_in(data_valid_2),\n",
        "        .data_out(data_h_2_1), .data_valid_out(data_valid_h_2_1),\n",
        "        .weight_in(weight_v_2_0), .weight_valid_in(weight_valid_v_2_0),\n",
        "        .weight_out(weight_v_3_0), .weight_valid_out(weight_valid_v_3_0),\n",
        "        .accum_out(result_20), .result_valid(valid_20)\n",
        "    );\n",
        "\n",
        "    processing_element pe_21 (\n",
        "        .clk(clk), .rst_n(rst_n), .enable(enable_pe), .clear_accum(clear_accum_pe),\n",
        "        .data_in(data_h_2_1), .data_valid_in(data_valid_h_2_1),\n",
        "        .data_out(data_h_2_2), .data_valid_out(data_valid_h_2_2),\n",
        "        .weight_in(weight_v_2_1), .weight_valid_in(weight_valid_v_2_1),\n",
        "        .weight_out(weight_v_3_1), .weight_valid_out(weight_valid_v_3_1),\n",
        "        .accum_out(result_21), .result_valid(valid_21)\n",
        "    );\n",
        "\n",
        "    processing_element pe_22 (\n",
        "        .clk(clk), .rst_n(rst_n), .enable(enable_pe), .clear_accum(clear_accum_pe),\n",
        "        .data_in(data_h_2_2), .data_valid_in(data_valid_h_2_2),\n",
        "        .data_out(data_h_2_3), .data_valid_out(data_valid_h_2_3),\n",
        "        .weight_in(weight_v_2_2), .weight_valid_in(weight_valid_v_2_2),\n",
        "        .weight_out(weight_v_3_2), .weight_valid_out(weight_valid_v_3_2),\n",
        "        .accum_out(result_22), .result_valid(valid_22)\n",
        "    );\n",
        "\n",
        "    processing_element pe_23 (\n",
        "        .clk(clk), .rst_n(rst_n), .enable(enable_pe), .clear_accum(clear_accum_pe),\n",
        "        .data_in(data_h_2_3), .data_valid_in(data_valid_h_2_3),\n",
        "        .data_out(data_h_2_4), .data_valid_out(data_valid_h_2_4),\n",
        "        .weight_in(weight_v_2_3), .weight_valid_in(weight_valid_v_2_3),\n",
        "        .weight_out(weight_v_3_3), .weight_valid_out(weight_valid_v_3_3),\n",
        "        .accum_out(result_23), .result_valid(valid_23)\n",
        "    );\n",
        "\n",
        "    // Row 3\n",
        "    processing_element pe_30 (\n",
        "        .clk(clk), .rst_n(rst_n), .enable(enable_pe), .clear_accum(clear_accum_pe),\n",
        "        .data_in(data_in_3), .data_valid_in(data_valid_3),\n",
        "        .data_out(data_h_3_1), .data_valid_out(data_valid_h_3_1),\n",
        "        .weight_in(weight_v_3_0), .weight_valid_in(weight_valid_v_3_0),\n",
        "        .weight_out(weight_v_4_0), .weight_valid_out(weight_valid_v_4_0),\n",
        "        .accum_out(result_30), .result_valid(valid_30)\n",
        "    );\n",
        "\n",
        "    processing_element pe_31 (\n",
        "        .clk(clk), .rst_n(rst_n), .enable(enable_pe), .clear_accum(clear_accum_pe),\n",
        "        .data_in(data_h_3_1), .data_valid_in(data_valid_h_3_1),\n",
        "        .data_out(data_h_3_2), .data_valid_out(data_valid_h_3_2),\n",
        "        .weight_in(weight_v_3_1), .weight_valid_in(weight_valid_v_3_1),\n",
        "        .weight_out(weight_v_4_1), .weight_valid_out(weight_valid_v_4_1),\n",
        "        .accum_out(result_31), .result_valid(valid_31)\n",
        "    );\n",
        "\n",
        "    processing_element pe_32 (\n",
        "        .clk(clk), .rst_n(rst_n), .enable(enable_pe), .clear_accum(clear_accum_pe),\n",
        "        .data_in(data_h_3_2), .data_valid_in(data_valid_h_3_2),\n",
        "        .data_out(data_h_3_3), .data_valid_out(data_valid_h_3_3),\n",
        "        .weight_in(weight_v_3_2), .weight_valid_in(weight_valid_v_3_2),\n",
        "        .weight_out(weight_v_4_2), .weight_valid_out(weight_valid_v_4_2),\n",
        "        .accum_out(result_32), .result_valid(valid_32)\n",
        "    );\n",
        "\n",
        "    processing_element pe_33 (\n",
        "        .clk(clk), .rst_n(rst_n), .enable(enable_pe), .clear_accum(clear_accum_pe),\n",
        "        .data_in(data_h_3_3), .data_valid_in(data_valid_h_3_3),\n",
        "        .data_out(data_h_3_4), .data_valid_out(data_valid_h_3_4),\n",
        "        .weight_in(weight_v_3_3), .weight_valid_in(weight_valid_v_3_3),\n",
        "        .weight_out(weight_v_4_3), .weight_valid_out(weight_valid_v_4_3),\n",
        "        .accum_out(result_33), .result_valid(valid_33)\n",
        "    );\n",
        "\n",
        "    // ===========================================\n",
        "    // Output Control\n",
        "    // ===========================================\n",
        "    assign computation_done = (current_state == DONE);\n",
        "    assign result_valid = (current_state == DONE);\n",
        "\n",
        "endmodule\n",
        "\n",
        "// ===========================================\n",
        "// Processing Element (Same as before)\n",
        "// ===========================================\n",
        "module processing_element #(\n",
        "    parameter DATA_WIDTH = 16,\n",
        "    parameter WEIGHT_WIDTH = 8,\n",
        "    parameter ACCUM_WIDTH = 32\n",
        ")(\n",
        "    input                         clk,\n",
        "    input                         rst_n,\n",
        "    input                         enable,\n",
        "    input                         clear_accum,\n",
        "\n",
        "    input  [DATA_WIDTH-1:0]       data_in,\n",
        "    input                         data_valid_in,\n",
        "    output [DATA_WIDTH-1:0]       data_out,\n",
        "    output                        data_valid_out,\n",
        "\n",
        "    input  [WEIGHT_WIDTH-1:0]     weight_in,\n",
        "    input                         weight_valid_in,\n",
        "    output [WEIGHT_WIDTH-1:0]     weight_out,\n",
        "    output                        weight_valid_out,\n",
        "\n",
        "    output [ACCUM_WIDTH-1:0]      accum_out,\n",
        "    output                        result_valid\n",
        ");\n",
        "\n",
        "    wire [DATA_WIDTH-1:0]      mac_data;\n",
        "    wire [WEIGHT_WIDTH-1:0]    mac_weight;\n",
        "    wire [ACCUM_WIDTH-1:0]     mac_accum;\n",
        "    wire                       mac_valid;\n",
        "\n",
        "    reg [DATA_WIDTH-1:0]       data_reg;\n",
        "    reg                        data_valid_reg;\n",
        "    reg [WEIGHT_WIDTH-1:0]     weight_reg;\n",
        "    reg                        weight_valid_reg;\n",
        "\n",
        "    // MAC unit gets valid data/weight only when both are valid\n",
        "    assign mac_data = (data_valid_in && weight_valid_in) ? data_in : {DATA_WIDTH{1'b0}};\n",
        "    assign mac_weight = (data_valid_in && weight_valid_in) ? weight_in : {WEIGHT_WIDTH{1'b0}};\n",
        "\n",
        "    // Register data and weights for systolic flow\n",
        "    always @(posedge clk or negedge rst_n) begin\n",
        "        if (!rst_n) begin\n",
        "            data_reg <= {DATA_WIDTH{1'b0}};\n",
        "            data_valid_reg <= 1'b0;\n",
        "            weight_reg <= {WEIGHT_WIDTH{1'b0}};\n",
        "            weight_valid_reg <= 1'b0;\n",
        "        end else if (enable) begin\n",
        "            data_reg <= data_in;\n",
        "            data_valid_reg <= data_valid_in;\n",
        "            weight_reg <= weight_in;\n",
        "            weight_valid_reg <= weight_valid_in;\n",
        "        end else begin\n",
        "            data_valid_reg <= 1'b0;\n",
        "            weight_valid_reg <= 1'b0;\n",
        "        end\n",
        "    end\n",
        "\n",
        "    // Output registered values for systolic flow\n",
        "    assign data_out = data_reg;\n",
        "    assign data_valid_out = data_valid_reg;\n",
        "    assign weight_out = weight_reg;\n",
        "    assign weight_valid_out = weight_valid_reg;\n",
        "\n",
        "    // MAC unit instantiation\n",
        "    mac_unit_basic #(\n",
        "        .DATA_WIDTH(DATA_WIDTH),\n",
        "        .WEIGHT_WIDTH(WEIGHT_WIDTH),\n",
        "        .ACCUM_WIDTH(ACCUM_WIDTH)\n",
        "    ) mac_unit (\n",
        "        .clk(clk),\n",
        "        .rst_n(rst_n),\n",
        "        .enable(enable && data_valid_in && weight_valid_in),\n",
        "        .clear_accum(clear_accum),\n",
        "        .data_in(mac_data),\n",
        "        .weight_in(mac_weight),\n",
        "        .accum_out(mac_accum),\n",
        "        .valid_out(mac_valid)\n",
        "    );\n",
        "\n",
        "    assign accum_out = mac_accum;\n",
        "    assign result_valid = mac_valid;\n",
        "\n",
        "endmodule\n",
        "\n",
        "// ===========================================\n",
        "// MAC Unit (Same as before)\n",
        "// ===========================================\n",
        "module mac_unit_basic #(\n",
        "    parameter DATA_WIDTH = 16,\n",
        "    parameter WEIGHT_WIDTH = 8,\n",
        "    parameter ACCUM_WIDTH = 32\n",
        ")(\n",
        "    input                         clk,\n",
        "    input                         rst_n,\n",
        "    input                         enable,\n",
        "    input                         clear_accum,\n",
        "\n",
        "    input  [DATA_WIDTH-1:0]       data_in,\n",
        "    input  [WEIGHT_WIDTH-1:0]     weight_in,\n",
        "\n",
        "    output [ACCUM_WIDTH-1:0]      accum_out,\n",
        "    output                        valid_out\n",
        ");\n",
        "\n",
        "    wire signed [DATA_WIDTH-1:0]      data_signed;\n",
        "    wire signed [WEIGHT_WIDTH-1:0]    weight_signed;\n",
        "    wire signed [DATA_WIDTH+WEIGHT_WIDTH-1:0] mult_result;\n",
        "    reg signed [ACCUM_WIDTH-1:0]      accum_reg;\n",
        "    wire signed [ACCUM_WIDTH-1:0]     next_accum;\n",
        "    reg                               valid_out_reg;\n",
        "\n",
        "    // Convert to signed for arithmetic\n",
        "    assign data_signed = $signed(data_in);\n",
        "    assign weight_signed = $signed(weight_in);\n",
        "    assign mult_result = data_signed * weight_signed;\n",
        "\n",
        "    // Accumulator logic: clear or accumulate\n",
        "    assign next_accum = clear_accum ? mult_result : (accum_reg + mult_result);\n",
        "\n",
        "    // Accumulator register\n",
        "    always @(posedge clk or negedge rst_n) begin\n",
        "        if (!rst_n) begin\n",
        "            accum_reg <= {ACCUM_WIDTH{1'b0}};\n",
        "            valid_out_reg <= 1'b0;\n",
        "        end else if (enable) begin\n",
        "            accum_reg <= next_accum;\n",
        "            valid_out_reg <= 1'b1;\n",
        "        end else begin\n",
        "            valid_out_reg <= 1'b0;\n",
        "        end\n",
        "    end\n",
        "\n",
        "    assign accum_out = accum_reg;\n",
        "    assign valid_out = valid_out_reg;\n",
        "\n",
        "endmodule\n"
      ]
    },
    {
      "cell_type": "markdown",
      "metadata": {
        "id": "axyc5mO4CGIZ"
      },
      "source": [
        "### Setting up the configuration\n",
        "\n",
        "OpenLane requries you to configure any Flow before using it. This is done using\n",
        "the `config` module.\n",
        "\n",
        "For colaboratories, REPLs and other interactive environments where there is no\n",
        "concrete Flow object, the Configuration may be initialized using `Config.interactive`,\n",
        "which will automatically propagate the configuration to any future steps.\n",
        "\n",
        "You can find the documentation for `Config.interactive` [here](https://openlane2.readthedocs.io/en/latest/reference/api/config/index.html#openlane.config.Config.interactive).\n",
        "\n"
      ]
    },
    {
      "cell_type": "code",
      "execution_count": null,
      "metadata": {
        "id": "dZ_Ww_T1CGIa"
      },
      "outputs": [],
      "source": [
        "from openlane.config import Config\n",
        "\n",
        "Config.interactive(\n",
        "    \"spm\",\n",
        "    PDK=\"sky130A\",\n",
        "    CLOCK_PORT=\"clk\",\n",
        "    CLOCK_NET=\"clk\",\n",
        "    CLOCK_PERIOD=10,\n",
        "    PRIMARY_GDSII_STREAMOUT_TOOL=\"klayout\",\n",
        ")\n",
        "{\n",
        "  \"DESIGN_NAME\": \"systolic_array_4x4\",\n",
        "  \"VERILOG_FILES\": [\"dir::systolic_array_4x4.v\"],\n",
        "  \"CLOCK_PERIOD\": 50,\n",
        "  \"CLOCK_PORT\": \"clk\"\n",
        "}"
      ]
    },
    {
      "cell_type": "markdown",
      "metadata": {
        "id": "DVmTGsL3CGIa"
      },
      "source": [
        "### Running implementation steps\n",
        "\n",
        "There are two ways to obtain OpenLane's built-in implementation steps:\n",
        "\n",
        "* via directly importing from the `steps` module using its category:\n",
        "    * `from openlane.steps import Yosys` then `Synthesis = Yosys.Synthesis`\n",
        "* by using the step's id from the registry:\n",
        "    * `from openlane.steps import Step` then `Synthesis = Step.factory.get(\"Yosys.Synthesis\")`\n",
        "\n",
        "You can find a full list of included steps here: https://openlane2.readthedocs.io/en/latest/reference/step_config_vars.html"
      ]
    },
    {
      "cell_type": "code",
      "execution_count": null,
      "metadata": {
        "id": "K_QVAyi2CGIa"
      },
      "outputs": [],
      "source": [
        "from openlane.steps import Step"
      ]
    },
    {
      "cell_type": "markdown",
      "metadata": {
        "id": "MQwJh44MCGIb"
      },
      "source": [
        "* First, get the step (and display its help)..."
      ]
    },
    {
      "cell_type": "code",
      "execution_count": null,
      "metadata": {
        "id": "F3Dk-PUnCGIb"
      },
      "outputs": [],
      "source": [
        "Synthesis = Step.factory.get(\"Yosys.Synthesis\")\n",
        "\n",
        "Synthesis.display_help()"
      ]
    },
    {
      "cell_type": "markdown",
      "metadata": {
        "id": "VgO-fcVCCGIb"
      },
      "source": [
        "* Then run it. Note you can pass step-specific configs using Python keyword\n",
        "  arguments."
      ]
    },
    {
      "cell_type": "markdown",
      "metadata": {
        "id": "w4sBqir_CGIb"
      },
      "source": [
        "### Synthesis\n",
        "\n",
        "We need to start by converting our high-level Verilog to one that just shows\n",
        "the connections between small silicon patterns called \"standard cells\" in process\n",
        "called Synthesis. We can do this by passing the Verilog files as a configuration\n",
        "variable to `Yosys.Synthesis` as follows, then running it.\n",
        "\n",
        "As this is the first step, we need to create an empty state and pass it to it."
      ]
    },
    {
      "cell_type": "code",
      "execution_count": null,
      "metadata": {
        "scrolled": true,
        "id": "r9BBZZnJCGIb"
      },
      "outputs": [],
      "source": [
        "from openlane.state import State\n",
        "\n",
        "synthesis = Synthesis(\n",
        "    VERILOG_FILES=[\"./spm.v\"],\n",
        "    state_in=State(),\n",
        ")\n",
        "synthesis.start()"
      ]
    },
    {
      "cell_type": "code",
      "execution_count": null,
      "metadata": {
        "id": "5CKp2PqWCGIb"
      },
      "outputs": [],
      "source": [
        "display(synthesis)"
      ]
    },
    {
      "cell_type": "markdown",
      "metadata": {
        "id": "BIvBewYOCGIb"
      },
      "source": [
        "### Floorplanning\n",
        "\n",
        "Floorplanning does two things:\n",
        "\n",
        "* Determines the dimensions of the final chip.\n",
        "* Creates the \"cell placement grid\" which placed cells must be aligned to.\n",
        "    * Each cell in the grid is called a \"site.\" Cells can occupy multiple\n",
        "      sites, with the overwhelming majority of cells occupying multiple sites\n",
        "      by width, and some standard cell libraries supporting varying heights as well.\n",
        "\n",
        "> Don't forget- you may call `display_help()` on any Step class to get a full\n",
        "> list of configuration variables.\n",
        ""
      ]
    },
    {
      "cell_type": "code",
      "execution_count": null,
      "metadata": {
        "id": "gCYR4twVCGIc"
      },
      "outputs": [],
      "source": [
        "Floorplan = Step.factory.get(\"OpenROAD.Floorplan\")\n",
        "\n",
        "floorplan = Floorplan(state_in=synthesis.state_out)\n",
        "floorplan.start()"
      ]
    },
    {
      "cell_type": "code",
      "execution_count": null,
      "metadata": {
        "id": "97rVP2eRCGIc"
      },
      "outputs": [],
      "source": [
        "display(floorplan)"
      ]
    },
    {
      "cell_type": "markdown",
      "metadata": {
        "id": "faF0qRR_CGIc"
      },
      "source": [
        "### Tap/Endcap Cell Insertion\n",
        "\n",
        "This places two kinds of cells on the floorplan:\n",
        "\n",
        "* End cap/boundary cells: Added at the beginning and end of each row. True to\n",
        "  their name, they \"cap off\" the core area of a design.\n",
        "* Tap cells: Placed in a polka dot-ish fashion across the rows. Tap cells\n",
        "  connect VDD to the nwell and the psubstrate to VSS, which the majority of cells\n",
        "  do not do themselves to save area- but if you go long enough without one such\n",
        "  connection you end up with the cell \"latching-up\"; i.e.; refusing to switch\n",
        "  back to LO from HI.\n",
        "\n",
        "  There is a maximum distance between tap cells enforced as part of every\n",
        "  foundry process."
      ]
    },
    {
      "cell_type": "code",
      "execution_count": null,
      "metadata": {
        "id": "Wqg5c1NWCGIc"
      },
      "outputs": [],
      "source": [
        "TapEndcapInsertion = Step.factory.get(\"OpenROAD.TapEndcapInsertion\")\n",
        "\n",
        "tdi = TapEndcapInsertion(state_in=floorplan.state_out)\n",
        "tdi.start()"
      ]
    },
    {
      "cell_type": "code",
      "execution_count": null,
      "metadata": {
        "id": "fr5_msgsCGIc"
      },
      "outputs": [],
      "source": [
        "display(tdi)"
      ]
    },
    {
      "cell_type": "markdown",
      "metadata": {
        "id": "U8ZWWEc-CGIc"
      },
      "source": [
        "### I/O Placement\n",
        "\n",
        "This places metal pins at the edges of the design corresponding to the top level\n",
        "inputs and outputs for your design. These pins act as the interface with other\n",
        "designs when you integrate it with other designs."
      ]
    },
    {
      "cell_type": "code",
      "execution_count": null,
      "metadata": {
        "scrolled": true,
        "id": "iyfxd3V_CGId"
      },
      "outputs": [],
      "source": [
        "IOPlacement = Step.factory.get(\"OpenROAD.IOPlacement\")\n",
        "\n",
        "ioplace = IOPlacement(state_in=tdi.state_out)\n",
        "ioplace.start()"
      ]
    },
    {
      "cell_type": "code",
      "execution_count": null,
      "metadata": {
        "id": "InNrQ5pFCGId"
      },
      "outputs": [],
      "source": [
        "display(ioplace)"
      ]
    },
    {
      "cell_type": "markdown",
      "metadata": {
        "id": "C0q_gGGKCGId"
      },
      "source": [
        "### Generating the Power Distribution Network (PDN)\n",
        "\n",
        "This creates the power distribution network for your design, which is essentially\n",
        "a plaid pattern of horizontal and vertical \"straps\" across the design that is\n",
        "then connected to the rails' VDD and VSS (via the tap cells.)\n",
        "\n",
        "You can find an explanation of how the power distribution network works at this\n",
        "link: https://openlane2.readthedocs.io/en/latest/usage/hardening_macros.html#pdn-generation\n",
        "\n",
        "While we typically don't need to mess with the PDN too much, the SPM is a small\n",
        "design, so we're going to need to make the plaid pattern formed by the PDN a bit\n",
        "smaller."
      ]
    },
    {
      "cell_type": "code",
      "execution_count": null,
      "metadata": {
        "scrolled": true,
        "id": "ZEWCoD5fCGId"
      },
      "outputs": [],
      "source": [
        "GeneratePDN = Step.factory.get(\"OpenROAD.GeneratePDN\")\n",
        "\n",
        "pdn = GeneratePDN(\n",
        "    state_in=ioplace.state_out,\n",
        "    FP_PDN_VWIDTH=2,\n",
        "    FP_PDN_HWIDTH=2,\n",
        "    FP_PDN_VPITCH=30,\n",
        "    FP_PDN_HPITCH=30,\n",
        ")\n",
        "pdn.start()"
      ]
    },
    {
      "cell_type": "code",
      "execution_count": null,
      "metadata": {
        "id": "VQkDcIeKCGId"
      },
      "outputs": [],
      "source": [
        "display(pdn)"
      ]
    },
    {
      "cell_type": "markdown",
      "metadata": {
        "id": "w52ucGMkCGId"
      },
      "source": [
        "### Global Placement\n",
        "\n",
        "Global Placement is deciding on a fuzzy, non-final location for each of the cells,\n",
        "with the aim of minimizing the distance between cells that are connected\n",
        "together (more specifically, the total length of the not-yet-created wires that\n",
        "will connect them).\n",
        "\n",
        "As you will see in the `.display()` in the second cell below, the placement is\n",
        "considered \"illegal\", i.e., not properly aligned with the cell placement grid.\n",
        "This is addressed by \"Detailed Placement\", also referred to as \"placement\n",
        "legalization\", which is the next step."
      ]
    },
    {
      "cell_type": "code",
      "execution_count": null,
      "metadata": {
        "id": "nKDeSjcRCGId"
      },
      "outputs": [],
      "source": [
        "GlobalPlacement = Step.factory.get(\"OpenROAD.GlobalPlacement\")\n",
        "\n",
        "gpl = GlobalPlacement(state_in=pdn.state_out)\n",
        "gpl.start()"
      ]
    },
    {
      "cell_type": "code",
      "execution_count": null,
      "metadata": {
        "id": "KbT69CbrCGId"
      },
      "outputs": [],
      "source": [
        "display(gpl)"
      ]
    },
    {
      "cell_type": "markdown",
      "metadata": {
        "id": "CV5QrdQqCGId"
      },
      "source": [
        "### Detailed Placement\n",
        "\n",
        "This aligns the fuzzy placement from before with the grid, \"legalizing\" it."
      ]
    },
    {
      "cell_type": "code",
      "execution_count": null,
      "metadata": {
        "id": "Z9eXb1tQCGId"
      },
      "outputs": [],
      "source": [
        "DetailedPlacement = Step.factory.get(\"OpenROAD.DetailedPlacement\")\n",
        "\n",
        "dpl = DetailedPlacement(state_in=gpl.state_out)\n",
        "dpl.start()"
      ]
    },
    {
      "cell_type": "code",
      "execution_count": null,
      "metadata": {
        "id": "cA8L6ejnCGId"
      },
      "outputs": [],
      "source": [
        "display(dpl)"
      ]
    },
    {
      "cell_type": "markdown",
      "metadata": {
        "id": "zvqNrVX-CGId"
      },
      "source": [
        "### Clock Tree Synthesis (CTS)\n",
        "\n",
        "With the cells now having a final placement, we can go ahead and create what\n",
        "is known as the clock tree, i.e., the hierarchical set of buffers used\n",
        "for clock signal to minimize what is known as \"clock skew\"- variable delay\n",
        "of the clock cycle from register to register because of factors such as metal\n",
        "wire length, clock load (number of gates connected to the same clock buffer,)\n",
        "et cetera.\n",
        "\n",
        "The CTS step creates the cells and places the between the gaps in the detailed\n",
        "placement above."
      ]
    },
    {
      "cell_type": "code",
      "execution_count": null,
      "metadata": {
        "id": "lmIvUBG_CGIe"
      },
      "outputs": [],
      "source": [
        "CTS = Step.factory.get(\"OpenROAD.CTS\")\n",
        "\n",
        "cts = CTS(state_in=dpl.state_out)\n",
        "cts.start()"
      ]
    },
    {
      "cell_type": "code",
      "execution_count": null,
      "metadata": {
        "id": "z7WmakcyCGIe"
      },
      "outputs": [],
      "source": [
        "display(cts)"
      ]
    },
    {
      "cell_type": "markdown",
      "metadata": {
        "id": "ORnnagNxCGIe"
      },
      "source": [
        "### Global Routing\n",
        "\n",
        "Global routing \"plans\" the routes the wires between two gates (or gates and\n",
        "I/O pins/the PDN) will take. The results of global routing (which are called\n",
        "\"routing guides\") are stored in internal data structures and have no effect on\n",
        "the actual design, so there is no `display()` statement."
      ]
    },
    {
      "cell_type": "code",
      "execution_count": null,
      "metadata": {
        "id": "I75vc_5wCGIe"
      },
      "outputs": [],
      "source": [
        "GlobalRouting = Step.factory.get(\"OpenROAD.GlobalRouting\")\n",
        "\n",
        "grt = GlobalRouting(state_in=cts.state_out)\n",
        "grt.start()"
      ]
    },
    {
      "cell_type": "markdown",
      "metadata": {
        "id": "VxHDGFNjCGIm"
      },
      "source": [
        "### Detailed Routing\n",
        "\n",
        "Detailed routing uses the guides from Global Routing to actually create wires\n",
        "on the metal layers and connect the gates, making the connections finally physical.\n",
        "\n",
        "This is typically the longest step in the flow."
      ]
    },
    {
      "cell_type": "code",
      "execution_count": null,
      "metadata": {
        "id": "9PQS0W2QCGIm"
      },
      "outputs": [],
      "source": [
        "DetailedRouting = Step.factory.get(\"OpenROAD.DetailedRouting\")\n",
        "\n",
        "drt = DetailedRouting(state_in=grt.state_out)\n",
        "drt.start()"
      ]
    },
    {
      "cell_type": "code",
      "execution_count": null,
      "metadata": {
        "id": "zDbmlOPJCGIm"
      },
      "outputs": [],
      "source": [
        "display(drt)"
      ]
    },
    {
      "cell_type": "markdown",
      "metadata": {
        "id": "y__CWocCCGIn"
      },
      "source": [
        "### Fill Insertion\n",
        "\n",
        "Finally, as we're done placing all the essential cells, the only thing left to\n",
        "do is fill in the gaps.\n",
        "\n",
        "We prioritize the use of decap (decoupling capacitor) cells, which\n",
        "further supports the power distribution network, but when there aren't any\n",
        "small enough cells, we just use regular fill cells."
      ]
    },
    {
      "cell_type": "code",
      "execution_count": null,
      "metadata": {
        "id": "LoJC3STHCGIn"
      },
      "outputs": [],
      "source": [
        "FillInsertion = Step.factory.get(\"OpenROAD.FillInsertion\")\n",
        "\n",
        "fill = FillInsertion(state_in=drt.state_out)\n",
        "fill.start()"
      ]
    },
    {
      "cell_type": "code",
      "execution_count": null,
      "metadata": {
        "id": "IHqVOG9HCGIn"
      },
      "outputs": [],
      "source": [
        "display(fill)"
      ]
    },
    {
      "cell_type": "markdown",
      "metadata": {
        "id": "RG9P3XmXCGIn"
      },
      "source": [
        "### Parasitics Extraction a.k.a. Resistance/Capacitance Extraction (RCX)\n",
        "\n",
        "This step does not alter the design- rather, it computes the\n",
        "[Parasitic elements](https://en.wikipedia.org/wiki/Parasitic_element_(electrical_networks))\n",
        "of the circuit, which have an effect of timing, as we prepare to do the final\n",
        "timing analysis.\n",
        "\n",
        "The parasitic elements are saved in the **Standard Parasitics Exchange Format**,\n",
        "or SPEF. OpenLane creates a SPEF file for each interconnect corner as described in\n",
        "the [Corners and STA](https://openlane2.readthedocs.io/en/latest/usage/corners_and_sta.html)\n",
        "section of the documentation."
      ]
    },
    {
      "cell_type": "code",
      "execution_count": null,
      "metadata": {
        "id": "2ifMUEqZCGIn"
      },
      "outputs": [],
      "source": [
        "RCX = Step.factory.get(\"OpenROAD.RCX\")\n",
        "\n",
        "rcx = RCX(state_in=fill.state_out)\n",
        "rcx.start()"
      ]
    },
    {
      "cell_type": "markdown",
      "metadata": {
        "id": "F8DmjlQUCGIn"
      },
      "source": [
        "### Static Timing Analysis (Post-PnR)\n",
        "\n",
        "STA is a process that verifies that a chip meets certain constraints on clock\n",
        "and data timings to run at its rated clock speed. See [Corners and STA](https://openlane2.readthedocs.io/en/latest/usage/corners_and_sta.html)\n",
        "in the documentation for more info.\n",
        "\n",
        "---\n",
        "\n",
        "This step generates two kinds of files:\n",
        "* `.lib`: Liberty™-compatible Library files. Can be used to do static timing\n",
        "  analysis when creating a design with this design as a sub-macro.\n",
        "* `.sdf`: Standard Delay Format. Can be used with certain simulation software\n",
        "  to do *dynamic* timing analysis.\n",
        "\n",
        "Unfortunately, the `.lib` files coming out of OpenLane right now are not super\n",
        "reliable for timing purposes and are only provided for completeness.\n",
        "When using OpenLane-created macros withing other designs, it is best to use the\n",
        "macro's final netlist and extracted parasitics instead."
      ]
    },
    {
      "cell_type": "code",
      "execution_count": null,
      "metadata": {
        "id": "bu6z0UzsCGIn"
      },
      "outputs": [],
      "source": [
        "STAPostPNR = Step.factory.get(\"OpenROAD.STAPostPNR\")\n",
        "\n",
        "sta_post_pnr = STAPostPNR(state_in=rcx.state_out)\n",
        "sta_post_pnr.start()"
      ]
    },
    {
      "cell_type": "markdown",
      "metadata": {
        "id": "JgJEWoceCGIn"
      },
      "source": [
        "### Stream-out\n",
        "\n",
        "Stream-out is the process of converting the designs from the abstract formats\n",
        "using during floorplanning, placement and routing into a concrete format called\n",
        "GDSII (lit. Graphic Design System 2), which is the final file that is then sent\n",
        "for fabrication."
      ]
    },
    {
      "cell_type": "code",
      "execution_count": null,
      "metadata": {
        "id": "B7LEDq7QCGIn"
      },
      "outputs": [],
      "source": [
        "StreamOut = Step.factory.get(\"KLayout.StreamOut\")\n",
        "\n",
        "gds = StreamOut(state_in=sta_post_pnr.state_out)\n",
        "gds.start()"
      ]
    },
    {
      "cell_type": "code",
      "execution_count": null,
      "metadata": {
        "id": "88ekyl4bCGIn"
      },
      "outputs": [],
      "source": [
        "display(gds)"
      ]
    },
    {
      "cell_type": "markdown",
      "metadata": {
        "id": "HMGf6iaaCGIo"
      },
      "source": [
        "### Design Rule Checks (DRC)\n",
        "\n",
        "DRC determines that the final layout does not violate any of the rules set by\n",
        "the foundry to ensure the design is actually manufacturable- for example,\n",
        "not enough space between two wires, *too much* space between tap cells, and so\n",
        "on.\n",
        "\n",
        "A design not passing DRC will typically be rejected by the foundry, who\n",
        "also run DRC on their side."
      ]
    },
    {
      "cell_type": "code",
      "execution_count": null,
      "metadata": {
        "id": "wrC92LaPCGIo"
      },
      "outputs": [],
      "source": [
        "DRC = Step.factory.get(\"Magic.DRC\")\n",
        "\n",
        "drc = DRC(state_in=gds.state_out)\n",
        "drc.start()"
      ]
    },
    {
      "cell_type": "markdown",
      "metadata": {
        "id": "l2DSrYmICGIo"
      },
      "source": [
        "### SPICE Extraction for Layout vs. Schematic Check\n",
        "\n",
        "This step tries to reconstruct a SPICE netlist from the GDSII file, so it can\n",
        "later be used for the **Layout vs. Schematic** (LVS) check."
      ]
    },
    {
      "cell_type": "code",
      "execution_count": null,
      "metadata": {
        "id": "yVGucRdPCGIo"
      },
      "outputs": [],
      "source": [
        "SpiceExtraction = Step.factory.get(\"Magic.SpiceExtraction\")\n",
        "\n",
        "spx = SpiceExtraction(state_in=drc.state_out)\n",
        "spx.start()"
      ]
    },
    {
      "cell_type": "markdown",
      "metadata": {
        "id": "8OQOtnTnCGIo"
      },
      "source": [
        "### Layout vs. Schematic (LVS)\n",
        "\n",
        "A comparison between the final Verilog netlist (from PnR) and the final\n",
        "SPICE netlist (extracted.)\n",
        "\n",
        "This check effectively compares the physically implemented circuit to the final\n",
        "Verilog netlist output by OpenROAD.\n",
        "\n",
        "The idea is, if there are any disconnects, shorts or other mismatches in the\n",
        "physical implementation that do not exist in the logical view of the design,\n",
        "they would be caught at this step.\n",
        "\n",
        "Common issues that result in LVS violations include:\n",
        "* Lack of fill cells or tap cells in the design\n",
        "* Two unrelated signals to be shorted, or a wire to be disconnected (most\n",
        "  commonly seen with misconfigured PDN)\n",
        "\n",
        "Chips with LVS errors are typically dead on arrival."
      ]
    },
    {
      "cell_type": "code",
      "execution_count": null,
      "metadata": {
        "id": "D1cACPaRCGIo"
      },
      "outputs": [],
      "source": [
        "LVS = Step.factory.get(\"Netgen.LVS\")\n",
        "\n",
        "lvs = LVS(state_in=spx.state_out)\n",
        "lvs.start()"
      ]
    }
  ],
  "metadata": {
    "kernelspec": {
      "display_name": "Python 3 (ipykernel)",
      "language": "python",
      "name": "python3"
    },
    "language_info": {
      "codemirror_mode": {
        "name": "ipython",
        "version": 3
      },
      "file_extension": ".py",
      "mimetype": "text/x-python",
      "name": "python",
      "nbconvert_exporter": "python",
      "pygments_lexer": "ipython3",
      "version": "3.11.6"
    },
    "vscode": {
      "interpreter": {
        "hash": "259a389b4057ccde35404af821e33afdf5883d9f2d987c370b23bfef9f2c3eb5"
      }
    },
    "colab": {
      "provenance": []
    },
    "widgets": {
      "application/vnd.jupyter.widget-state+json": {
        "c36431e4854140e791d84909abadc3f0": {
          "model_module": "@jupyter-widgets/output",
          "model_name": "OutputModel",
          "model_module_version": "1.0.0",
          "state": {
            "_dom_classes": [],
            "_model_module": "@jupyter-widgets/output",
            "_model_module_version": "1.0.0",
            "_model_name": "OutputModel",
            "_view_count": null,
            "_view_module": "@jupyter-widgets/output",
            "_view_module_version": "1.0.0",
            "_view_name": "OutputView",
            "layout": "IPY_MODEL_97178f37166440d3ab61041f0017a033",
            "msg_id": "",
            "outputs": [
              {
                "output_type": "display_data",
                "data": {
                  "text/plain": "Downloading common.tar.zst… \u001b[38;2;249;38;114m━━━━━━━━\u001b[0m\u001b[38;5;237m╺\u001b[0m\u001b[38;5;237m━━━━━━━━━━━━━━━━━━━━━━━━━━━━━━━\u001b[0m \u001b[35m 20%\u001b[0m \u001b[36m0:00:01\u001b[0m\n",
                  "text/html": "<pre style=\"white-space:pre;overflow-x:auto;line-height:normal;font-family:Menlo,'DejaVu Sans Mono',consolas,'Courier New',monospace\">Downloading common.tar.zst… <span style=\"color: #f92672; text-decoration-color: #f92672\">━━━━━━━━</span><span style=\"color: #3a3a3a; text-decoration-color: #3a3a3a\">╺━━━━━━━━━━━━━━━━━━━━━━━━━━━━━━━</span> <span style=\"color: #800080; text-decoration-color: #800080\"> 20%</span> <span style=\"color: #008080; text-decoration-color: #008080\">0:00:01</span>\n</pre>\n"
                },
                "metadata": {}
              }
            ]
          }
        },
        "97178f37166440d3ab61041f0017a033": {
          "model_module": "@jupyter-widgets/base",
          "model_name": "LayoutModel",
          "model_module_version": "1.2.0",
          "state": {
            "_model_module": "@jupyter-widgets/base",
            "_model_module_version": "1.2.0",
            "_model_name": "LayoutModel",
            "_view_count": null,
            "_view_module": "@jupyter-widgets/base",
            "_view_module_version": "1.2.0",
            "_view_name": "LayoutView",
            "align_content": null,
            "align_items": null,
            "align_self": null,
            "border": null,
            "bottom": null,
            "display": null,
            "flex": null,
            "flex_flow": null,
            "grid_area": null,
            "grid_auto_columns": null,
            "grid_auto_flow": null,
            "grid_auto_rows": null,
            "grid_column": null,
            "grid_gap": null,
            "grid_row": null,
            "grid_template_areas": null,
            "grid_template_columns": null,
            "grid_template_rows": null,
            "height": null,
            "justify_content": null,
            "justify_items": null,
            "left": null,
            "margin": null,
            "max_height": null,
            "max_width": null,
            "min_height": null,
            "min_width": null,
            "object_fit": null,
            "object_position": null,
            "order": null,
            "overflow": null,
            "overflow_x": null,
            "overflow_y": null,
            "padding": null,
            "right": null,
            "top": null,
            "visibility": null,
            "width": null
          }
        },
        "ca3009fca01840959b3986fd463e66df": {
          "model_module": "@jupyter-widgets/output",
          "model_name": "OutputModel",
          "model_module_version": "1.0.0",
          "state": {
            "_dom_classes": [],
            "_model_module": "@jupyter-widgets/output",
            "_model_module_version": "1.0.0",
            "_model_name": "OutputModel",
            "_view_count": null,
            "_view_module": "@jupyter-widgets/output",
            "_view_module_version": "1.0.0",
            "_view_name": "OutputView",
            "layout": "IPY_MODEL_aeb3868a30f141428f19ee6e9f94b1e2",
            "msg_id": "",
            "outputs": [
              {
                "output_type": "display_data",
                "data": {
                  "text/plain": "\u001b[32m⠹\u001b[0m Unpacking common.tar.zst…\n",
                  "text/html": "<pre style=\"white-space:pre;overflow-x:auto;line-height:normal;font-family:Menlo,'DejaVu Sans Mono',consolas,'Courier New',monospace\"><span style=\"color: #008000; text-decoration-color: #008000\">⠹</span> Unpacking common.tar.zst…\n</pre>\n"
                },
                "metadata": {}
              }
            ]
          }
        },
        "aeb3868a30f141428f19ee6e9f94b1e2": {
          "model_module": "@jupyter-widgets/base",
          "model_name": "LayoutModel",
          "model_module_version": "1.2.0",
          "state": {
            "_model_module": "@jupyter-widgets/base",
            "_model_module_version": "1.2.0",
            "_model_name": "LayoutModel",
            "_view_count": null,
            "_view_module": "@jupyter-widgets/base",
            "_view_module_version": "1.2.0",
            "_view_name": "LayoutView",
            "align_content": null,
            "align_items": null,
            "align_self": null,
            "border": null,
            "bottom": null,
            "display": null,
            "flex": null,
            "flex_flow": null,
            "grid_area": null,
            "grid_auto_columns": null,
            "grid_auto_flow": null,
            "grid_auto_rows": null,
            "grid_column": null,
            "grid_gap": null,
            "grid_row": null,
            "grid_template_areas": null,
            "grid_template_columns": null,
            "grid_template_rows": null,
            "height": null,
            "justify_content": null,
            "justify_items": null,
            "left": null,
            "margin": null,
            "max_height": null,
            "max_width": null,
            "min_height": null,
            "min_width": null,
            "object_fit": null,
            "object_position": null,
            "order": null,
            "overflow": null,
            "overflow_x": null,
            "overflow_y": null,
            "padding": null,
            "right": null,
            "top": null,
            "visibility": null,
            "width": null
          }
        },
        "846661c65e6f478fa9800d064fc59751": {
          "model_module": "@jupyter-widgets/output",
          "model_name": "OutputModel",
          "model_module_version": "1.0.0",
          "state": {
            "_dom_classes": [],
            "_model_module": "@jupyter-widgets/output",
            "_model_module_version": "1.0.0",
            "_model_name": "OutputModel",
            "_view_count": null,
            "_view_module": "@jupyter-widgets/output",
            "_view_module_version": "1.0.0",
            "_view_name": "OutputView",
            "layout": "IPY_MODEL_77029b1137814e19ab80f180e8a6383d",
            "msg_id": "",
            "outputs": [
              {
                "output_type": "display_data",
                "data": {
                  "text/plain": "Downloading sky130_fd_io.tar.zst… \u001b[38;2;249;38;114m━━━━━━━━━━━━━━━━━━━━━━━━━━━━━━━━━━━━━━\u001b[0m\u001b[38;2;249;38;114m╸\u001b[0m\u001b[38;5;237m━\u001b[0m \u001b[35m 97%\u001b[0m \u001b[36m0:00:01\u001b[0m\n",
                  "text/html": "<pre style=\"white-space:pre;overflow-x:auto;line-height:normal;font-family:Menlo,'DejaVu Sans Mono',consolas,'Courier New',monospace\">Downloading sky130_fd_io.tar.zst… <span style=\"color: #f92672; text-decoration-color: #f92672\">━━━━━━━━━━━━━━━━━━━━━━━━━━━━━━━━━━━━━━╸</span><span style=\"color: #3a3a3a; text-decoration-color: #3a3a3a\">━</span> <span style=\"color: #800080; text-decoration-color: #800080\"> 97%</span> <span style=\"color: #008080; text-decoration-color: #008080\">0:00:01</span>\n</pre>\n"
                },
                "metadata": {}
              }
            ]
          }
        },
        "77029b1137814e19ab80f180e8a6383d": {
          "model_module": "@jupyter-widgets/base",
          "model_name": "LayoutModel",
          "model_module_version": "1.2.0",
          "state": {
            "_model_module": "@jupyter-widgets/base",
            "_model_module_version": "1.2.0",
            "_model_name": "LayoutModel",
            "_view_count": null,
            "_view_module": "@jupyter-widgets/base",
            "_view_module_version": "1.2.0",
            "_view_name": "LayoutView",
            "align_content": null,
            "align_items": null,
            "align_self": null,
            "border": null,
            "bottom": null,
            "display": null,
            "flex": null,
            "flex_flow": null,
            "grid_area": null,
            "grid_auto_columns": null,
            "grid_auto_flow": null,
            "grid_auto_rows": null,
            "grid_column": null,
            "grid_gap": null,
            "grid_row": null,
            "grid_template_areas": null,
            "grid_template_columns": null,
            "grid_template_rows": null,
            "height": null,
            "justify_content": null,
            "justify_items": null,
            "left": null,
            "margin": null,
            "max_height": null,
            "max_width": null,
            "min_height": null,
            "min_width": null,
            "object_fit": null,
            "object_position": null,
            "order": null,
            "overflow": null,
            "overflow_x": null,
            "overflow_y": null,
            "padding": null,
            "right": null,
            "top": null,
            "visibility": null,
            "width": null
          }
        },
        "504f8c21d3bb478d95178a0456cf26fe": {
          "model_module": "@jupyter-widgets/output",
          "model_name": "OutputModel",
          "model_module_version": "1.0.0",
          "state": {
            "_dom_classes": [],
            "_model_module": "@jupyter-widgets/output",
            "_model_module_version": "1.0.0",
            "_model_name": "OutputModel",
            "_view_count": null,
            "_view_module": "@jupyter-widgets/output",
            "_view_module_version": "1.0.0",
            "_view_name": "OutputView",
            "layout": "IPY_MODEL_3e1f1267c6d34708a12f8f0b509f5a55",
            "msg_id": "",
            "outputs": [
              {
                "output_type": "display_data",
                "data": {
                  "text/plain": "\u001b[32m⠸\u001b[0m Unpacking sky130_fd_io.tar.zst…\n",
                  "text/html": "<pre style=\"white-space:pre;overflow-x:auto;line-height:normal;font-family:Menlo,'DejaVu Sans Mono',consolas,'Courier New',monospace\"><span style=\"color: #008000; text-decoration-color: #008000\">⠸</span> Unpacking sky130_fd_io.tar.zst…\n</pre>\n"
                },
                "metadata": {}
              }
            ]
          }
        },
        "3e1f1267c6d34708a12f8f0b509f5a55": {
          "model_module": "@jupyter-widgets/base",
          "model_name": "LayoutModel",
          "model_module_version": "1.2.0",
          "state": {
            "_model_module": "@jupyter-widgets/base",
            "_model_module_version": "1.2.0",
            "_model_name": "LayoutModel",
            "_view_count": null,
            "_view_module": "@jupyter-widgets/base",
            "_view_module_version": "1.2.0",
            "_view_name": "LayoutView",
            "align_content": null,
            "align_items": null,
            "align_self": null,
            "border": null,
            "bottom": null,
            "display": null,
            "flex": null,
            "flex_flow": null,
            "grid_area": null,
            "grid_auto_columns": null,
            "grid_auto_flow": null,
            "grid_auto_rows": null,
            "grid_column": null,
            "grid_gap": null,
            "grid_row": null,
            "grid_template_areas": null,
            "grid_template_columns": null,
            "grid_template_rows": null,
            "height": null,
            "justify_content": null,
            "justify_items": null,
            "left": null,
            "margin": null,
            "max_height": null,
            "max_width": null,
            "min_height": null,
            "min_width": null,
            "object_fit": null,
            "object_position": null,
            "order": null,
            "overflow": null,
            "overflow_x": null,
            "overflow_y": null,
            "padding": null,
            "right": null,
            "top": null,
            "visibility": null,
            "width": null
          }
        },
        "572e2a1a6cae4e3897401da3e0e20525": {
          "model_module": "@jupyter-widgets/output",
          "model_name": "OutputModel",
          "model_module_version": "1.0.0",
          "state": {
            "_dom_classes": [],
            "_model_module": "@jupyter-widgets/output",
            "_model_module_version": "1.0.0",
            "_model_name": "OutputModel",
            "_view_count": null,
            "_view_module": "@jupyter-widgets/output",
            "_view_module_version": "1.0.0",
            "_view_name": "OutputView",
            "layout": "IPY_MODEL_42319a9cfaa546d9a5744a6547fc43d2",
            "msg_id": "",
            "outputs": [
              {
                "output_type": "display_data",
                "data": {
                  "text/plain": "Downloading sky130_fd_pr.tar.zst… \u001b[38;2;249;38;114m━━━━━━━━━━━━━━━━━━━━━━━━━━━━━\u001b[0m\u001b[38;5;237m╺\u001b[0m\u001b[38;5;237m━━━━━━━━━━\u001b[0m \u001b[35m 74%\u001b[0m \u001b[36m0:00:01\u001b[0m\n",
                  "text/html": "<pre style=\"white-space:pre;overflow-x:auto;line-height:normal;font-family:Menlo,'DejaVu Sans Mono',consolas,'Courier New',monospace\">Downloading sky130_fd_pr.tar.zst… <span style=\"color: #f92672; text-decoration-color: #f92672\">━━━━━━━━━━━━━━━━━━━━━━━━━━━━━</span><span style=\"color: #3a3a3a; text-decoration-color: #3a3a3a\">╺━━━━━━━━━━</span> <span style=\"color: #800080; text-decoration-color: #800080\"> 74%</span> <span style=\"color: #008080; text-decoration-color: #008080\">0:00:01</span>\n</pre>\n"
                },
                "metadata": {}
              }
            ]
          }
        },
        "42319a9cfaa546d9a5744a6547fc43d2": {
          "model_module": "@jupyter-widgets/base",
          "model_name": "LayoutModel",
          "model_module_version": "1.2.0",
          "state": {
            "_model_module": "@jupyter-widgets/base",
            "_model_module_version": "1.2.0",
            "_model_name": "LayoutModel",
            "_view_count": null,
            "_view_module": "@jupyter-widgets/base",
            "_view_module_version": "1.2.0",
            "_view_name": "LayoutView",
            "align_content": null,
            "align_items": null,
            "align_self": null,
            "border": null,
            "bottom": null,
            "display": null,
            "flex": null,
            "flex_flow": null,
            "grid_area": null,
            "grid_auto_columns": null,
            "grid_auto_flow": null,
            "grid_auto_rows": null,
            "grid_column": null,
            "grid_gap": null,
            "grid_row": null,
            "grid_template_areas": null,
            "grid_template_columns": null,
            "grid_template_rows": null,
            "height": null,
            "justify_content": null,
            "justify_items": null,
            "left": null,
            "margin": null,
            "max_height": null,
            "max_width": null,
            "min_height": null,
            "min_width": null,
            "object_fit": null,
            "object_position": null,
            "order": null,
            "overflow": null,
            "overflow_x": null,
            "overflow_y": null,
            "padding": null,
            "right": null,
            "top": null,
            "visibility": null,
            "width": null
          }
        },
        "8307670c5b414de39b42b2e364b61140": {
          "model_module": "@jupyter-widgets/output",
          "model_name": "OutputModel",
          "model_module_version": "1.0.0",
          "state": {
            "_dom_classes": [],
            "_model_module": "@jupyter-widgets/output",
            "_model_module_version": "1.0.0",
            "_model_name": "OutputModel",
            "_view_count": null,
            "_view_module": "@jupyter-widgets/output",
            "_view_module_version": "1.0.0",
            "_view_name": "OutputView",
            "layout": "IPY_MODEL_28564d805c01449aa0e9f02378f9842a",
            "msg_id": "",
            "outputs": [
              {
                "output_type": "display_data",
                "data": {
                  "text/plain": "\u001b[32m⠇\u001b[0m Unpacking sky130_fd_pr.tar.zst…\n",
                  "text/html": "<pre style=\"white-space:pre;overflow-x:auto;line-height:normal;font-family:Menlo,'DejaVu Sans Mono',consolas,'Courier New',monospace\"><span style=\"color: #008000; text-decoration-color: #008000\">⠇</span> Unpacking sky130_fd_pr.tar.zst…\n</pre>\n"
                },
                "metadata": {}
              }
            ]
          }
        },
        "28564d805c01449aa0e9f02378f9842a": {
          "model_module": "@jupyter-widgets/base",
          "model_name": "LayoutModel",
          "model_module_version": "1.2.0",
          "state": {
            "_model_module": "@jupyter-widgets/base",
            "_model_module_version": "1.2.0",
            "_model_name": "LayoutModel",
            "_view_count": null,
            "_view_module": "@jupyter-widgets/base",
            "_view_module_version": "1.2.0",
            "_view_name": "LayoutView",
            "align_content": null,
            "align_items": null,
            "align_self": null,
            "border": null,
            "bottom": null,
            "display": null,
            "flex": null,
            "flex_flow": null,
            "grid_area": null,
            "grid_auto_columns": null,
            "grid_auto_flow": null,
            "grid_auto_rows": null,
            "grid_column": null,
            "grid_gap": null,
            "grid_row": null,
            "grid_template_areas": null,
            "grid_template_columns": null,
            "grid_template_rows": null,
            "height": null,
            "justify_content": null,
            "justify_items": null,
            "left": null,
            "margin": null,
            "max_height": null,
            "max_width": null,
            "min_height": null,
            "min_width": null,
            "object_fit": null,
            "object_position": null,
            "order": null,
            "overflow": null,
            "overflow_x": null,
            "overflow_y": null,
            "padding": null,
            "right": null,
            "top": null,
            "visibility": null,
            "width": null
          }
        },
        "79e2b98a400a4899a3e85a850c756ee4": {
          "model_module": "@jupyter-widgets/output",
          "model_name": "OutputModel",
          "model_module_version": "1.0.0",
          "state": {
            "_dom_classes": [],
            "_model_module": "@jupyter-widgets/output",
            "_model_module_version": "1.0.0",
            "_model_name": "OutputModel",
            "_view_count": null,
            "_view_module": "@jupyter-widgets/output",
            "_view_module_version": "1.0.0",
            "_view_name": "OutputView",
            "layout": "IPY_MODEL_4fe9154f851943d989bcade5b25ae951",
            "msg_id": "",
            "outputs": [
              {
                "output_type": "display_data",
                "data": {
                  "text/plain": "Downloading sky130_fd_sc_hd.tar.zst… \u001b[38;2;249;38;114m━━━━━━━━━━━━━━━━━━━━━━━━━━━━━━━━━━━━━━\u001b[0m\u001b[38;2;249;38;114m╸\u001b[0m\u001b[38;5;237m━\u001b[0m \u001b[35m 97%\u001b[0m \u001b[36m0:00:01\u001b[0m\n",
                  "text/html": "<pre style=\"white-space:pre;overflow-x:auto;line-height:normal;font-family:Menlo,'DejaVu Sans Mono',consolas,'Courier New',monospace\">Downloading sky130_fd_sc_hd.tar.zst… <span style=\"color: #f92672; text-decoration-color: #f92672\">━━━━━━━━━━━━━━━━━━━━━━━━━━━━━━━━━━━━━━╸</span><span style=\"color: #3a3a3a; text-decoration-color: #3a3a3a\">━</span> <span style=\"color: #800080; text-decoration-color: #800080\"> 97%</span> <span style=\"color: #008080; text-decoration-color: #008080\">0:00:01</span>\n</pre>\n"
                },
                "metadata": {}
              }
            ]
          }
        },
        "4fe9154f851943d989bcade5b25ae951": {
          "model_module": "@jupyter-widgets/base",
          "model_name": "LayoutModel",
          "model_module_version": "1.2.0",
          "state": {
            "_model_module": "@jupyter-widgets/base",
            "_model_module_version": "1.2.0",
            "_model_name": "LayoutModel",
            "_view_count": null,
            "_view_module": "@jupyter-widgets/base",
            "_view_module_version": "1.2.0",
            "_view_name": "LayoutView",
            "align_content": null,
            "align_items": null,
            "align_self": null,
            "border": null,
            "bottom": null,
            "display": null,
            "flex": null,
            "flex_flow": null,
            "grid_area": null,
            "grid_auto_columns": null,
            "grid_auto_flow": null,
            "grid_auto_rows": null,
            "grid_column": null,
            "grid_gap": null,
            "grid_row": null,
            "grid_template_areas": null,
            "grid_template_columns": null,
            "grid_template_rows": null,
            "height": null,
            "justify_content": null,
            "justify_items": null,
            "left": null,
            "margin": null,
            "max_height": null,
            "max_width": null,
            "min_height": null,
            "min_width": null,
            "object_fit": null,
            "object_position": null,
            "order": null,
            "overflow": null,
            "overflow_x": null,
            "overflow_y": null,
            "padding": null,
            "right": null,
            "top": null,
            "visibility": null,
            "width": null
          }
        },
        "e328525bf2684e68a3ddb8b06a9588cf": {
          "model_module": "@jupyter-widgets/output",
          "model_name": "OutputModel",
          "model_module_version": "1.0.0",
          "state": {
            "_dom_classes": [],
            "_model_module": "@jupyter-widgets/output",
            "_model_module_version": "1.0.0",
            "_model_name": "OutputModel",
            "_view_count": null,
            "_view_module": "@jupyter-widgets/output",
            "_view_module_version": "1.0.0",
            "_view_name": "OutputView",
            "layout": "IPY_MODEL_418acb1fe7ac429d83906e5864035ef8",
            "msg_id": "",
            "outputs": [
              {
                "output_type": "display_data",
                "data": {
                  "text/plain": "\u001b[32m⠦\u001b[0m Unpacking sky130_fd_sc_hd.tar.zst…\n",
                  "text/html": "<pre style=\"white-space:pre;overflow-x:auto;line-height:normal;font-family:Menlo,'DejaVu Sans Mono',consolas,'Courier New',monospace\"><span style=\"color: #008000; text-decoration-color: #008000\">⠦</span> Unpacking sky130_fd_sc_hd.tar.zst…\n</pre>\n"
                },
                "metadata": {}
              }
            ]
          }
        },
        "418acb1fe7ac429d83906e5864035ef8": {
          "model_module": "@jupyter-widgets/base",
          "model_name": "LayoutModel",
          "model_module_version": "1.2.0",
          "state": {
            "_model_module": "@jupyter-widgets/base",
            "_model_module_version": "1.2.0",
            "_model_name": "LayoutModel",
            "_view_count": null,
            "_view_module": "@jupyter-widgets/base",
            "_view_module_version": "1.2.0",
            "_view_name": "LayoutView",
            "align_content": null,
            "align_items": null,
            "align_self": null,
            "border": null,
            "bottom": null,
            "display": null,
            "flex": null,
            "flex_flow": null,
            "grid_area": null,
            "grid_auto_columns": null,
            "grid_auto_flow": null,
            "grid_auto_rows": null,
            "grid_column": null,
            "grid_gap": null,
            "grid_row": null,
            "grid_template_areas": null,
            "grid_template_columns": null,
            "grid_template_rows": null,
            "height": null,
            "justify_content": null,
            "justify_items": null,
            "left": null,
            "margin": null,
            "max_height": null,
            "max_width": null,
            "min_height": null,
            "min_width": null,
            "object_fit": null,
            "object_position": null,
            "order": null,
            "overflow": null,
            "overflow_x": null,
            "overflow_y": null,
            "padding": null,
            "right": null,
            "top": null,
            "visibility": null,
            "width": null
          }
        },
        "a2fbc8e70200414b9a4f26eadd594cab": {
          "model_module": "@jupyter-widgets/output",
          "model_name": "OutputModel",
          "model_module_version": "1.0.0",
          "state": {
            "_dom_classes": [],
            "_model_module": "@jupyter-widgets/output",
            "_model_module_version": "1.0.0",
            "_model_name": "OutputModel",
            "_view_count": null,
            "_view_module": "@jupyter-widgets/output",
            "_view_module_version": "1.0.0",
            "_view_name": "OutputView",
            "layout": "IPY_MODEL_dbd8102051d44dca9d1aa3b2e7e37be4",
            "msg_id": "",
            "outputs": [
              {
                "output_type": "display_data",
                "data": {
                  "text/plain": "Downloading sky130_fd_sc_hvl.tar.zst… \u001b[38;2;249;38;114m━━━━━━━━━━━━━━━━━━━━━━━━━━━━━━━━━━━━━━━\u001b[0m\u001b[38;5;237m╺\u001b[0m \u001b[35m 99%\u001b[0m \u001b[36m0:00:01\u001b[0m\n",
                  "text/html": "<pre style=\"white-space:pre;overflow-x:auto;line-height:normal;font-family:Menlo,'DejaVu Sans Mono',consolas,'Courier New',monospace\">Downloading sky130_fd_sc_hvl.tar.zst… <span style=\"color: #f92672; text-decoration-color: #f92672\">━━━━━━━━━━━━━━━━━━━━━━━━━━━━━━━━━━━━━━━</span><span style=\"color: #3a3a3a; text-decoration-color: #3a3a3a\">╺</span> <span style=\"color: #800080; text-decoration-color: #800080\"> 99%</span> <span style=\"color: #008080; text-decoration-color: #008080\">0:00:01</span>\n</pre>\n"
                },
                "metadata": {}
              }
            ]
          }
        },
        "dbd8102051d44dca9d1aa3b2e7e37be4": {
          "model_module": "@jupyter-widgets/base",
          "model_name": "LayoutModel",
          "model_module_version": "1.2.0",
          "state": {
            "_model_module": "@jupyter-widgets/base",
            "_model_module_version": "1.2.0",
            "_model_name": "LayoutModel",
            "_view_count": null,
            "_view_module": "@jupyter-widgets/base",
            "_view_module_version": "1.2.0",
            "_view_name": "LayoutView",
            "align_content": null,
            "align_items": null,
            "align_self": null,
            "border": null,
            "bottom": null,
            "display": null,
            "flex": null,
            "flex_flow": null,
            "grid_area": null,
            "grid_auto_columns": null,
            "grid_auto_flow": null,
            "grid_auto_rows": null,
            "grid_column": null,
            "grid_gap": null,
            "grid_row": null,
            "grid_template_areas": null,
            "grid_template_columns": null,
            "grid_template_rows": null,
            "height": null,
            "justify_content": null,
            "justify_items": null,
            "left": null,
            "margin": null,
            "max_height": null,
            "max_width": null,
            "min_height": null,
            "min_width": null,
            "object_fit": null,
            "object_position": null,
            "order": null,
            "overflow": null,
            "overflow_x": null,
            "overflow_y": null,
            "padding": null,
            "right": null,
            "top": null,
            "visibility": null,
            "width": null
          }
        },
        "b953631cd2024d188a13948d754ff85c": {
          "model_module": "@jupyter-widgets/output",
          "model_name": "OutputModel",
          "model_module_version": "1.0.0",
          "state": {
            "_dom_classes": [],
            "_model_module": "@jupyter-widgets/output",
            "_model_module_version": "1.0.0",
            "_model_name": "OutputModel",
            "_view_count": null,
            "_view_module": "@jupyter-widgets/output",
            "_view_module_version": "1.0.0",
            "_view_name": "OutputView",
            "layout": "IPY_MODEL_3b8866208c3544709f814c123ab55e15",
            "msg_id": "",
            "outputs": [
              {
                "output_type": "display_data",
                "data": {
                  "text/plain": "\u001b[32m⠼\u001b[0m Unpacking sky130_fd_sc_hvl.tar.zst…\n",
                  "text/html": "<pre style=\"white-space:pre;overflow-x:auto;line-height:normal;font-family:Menlo,'DejaVu Sans Mono',consolas,'Courier New',monospace\"><span style=\"color: #008000; text-decoration-color: #008000\">⠼</span> Unpacking sky130_fd_sc_hvl.tar.zst…\n</pre>\n"
                },
                "metadata": {}
              }
            ]
          }
        },
        "3b8866208c3544709f814c123ab55e15": {
          "model_module": "@jupyter-widgets/base",
          "model_name": "LayoutModel",
          "model_module_version": "1.2.0",
          "state": {
            "_model_module": "@jupyter-widgets/base",
            "_model_module_version": "1.2.0",
            "_model_name": "LayoutModel",
            "_view_count": null,
            "_view_module": "@jupyter-widgets/base",
            "_view_module_version": "1.2.0",
            "_view_name": "LayoutView",
            "align_content": null,
            "align_items": null,
            "align_self": null,
            "border": null,
            "bottom": null,
            "display": null,
            "flex": null,
            "flex_flow": null,
            "grid_area": null,
            "grid_auto_columns": null,
            "grid_auto_flow": null,
            "grid_auto_rows": null,
            "grid_column": null,
            "grid_gap": null,
            "grid_row": null,
            "grid_template_areas": null,
            "grid_template_columns": null,
            "grid_template_rows": null,
            "height": null,
            "justify_content": null,
            "justify_items": null,
            "left": null,
            "margin": null,
            "max_height": null,
            "max_width": null,
            "min_height": null,
            "min_width": null,
            "object_fit": null,
            "object_position": null,
            "order": null,
            "overflow": null,
            "overflow_x": null,
            "overflow_y": null,
            "padding": null,
            "right": null,
            "top": null,
            "visibility": null,
            "width": null
          }
        },
        "9100d2c2d79341898d9ebd212a92e817": {
          "model_module": "@jupyter-widgets/output",
          "model_name": "OutputModel",
          "model_module_version": "1.0.0",
          "state": {
            "_dom_classes": [],
            "_model_module": "@jupyter-widgets/output",
            "_model_module_version": "1.0.0",
            "_model_name": "OutputModel",
            "_view_count": null,
            "_view_module": "@jupyter-widgets/output",
            "_view_module_version": "1.0.0",
            "_view_name": "OutputView",
            "layout": "IPY_MODEL_16351a1a53fc42368ebe33fc0e5a9d4e",
            "msg_id": "",
            "outputs": [
              {
                "output_type": "display_data",
                "data": {
                  "text/plain": "Downloading sky130_ml_xx_hd.tar.zst… \u001b[38;5;237m━━━━━━━━━━━━━━━━━━━━━━━━━━━━━━━━━━━━━━━━\u001b[0m \u001b[35m  0%\u001b[0m \u001b[36m-:--:--\u001b[0m\n",
                  "text/html": "<pre style=\"white-space:pre;overflow-x:auto;line-height:normal;font-family:Menlo,'DejaVu Sans Mono',consolas,'Courier New',monospace\">Downloading sky130_ml_xx_hd.tar.zst… <span style=\"color: #3a3a3a; text-decoration-color: #3a3a3a\">━━━━━━━━━━━━━━━━━━━━━━━━━━━━━━━━━━━━━━━━</span> <span style=\"color: #800080; text-decoration-color: #800080\">  0%</span> <span style=\"color: #008080; text-decoration-color: #008080\">-:--:--</span>\n</pre>\n"
                },
                "metadata": {}
              }
            ]
          }
        },
        "16351a1a53fc42368ebe33fc0e5a9d4e": {
          "model_module": "@jupyter-widgets/base",
          "model_name": "LayoutModel",
          "model_module_version": "1.2.0",
          "state": {
            "_model_module": "@jupyter-widgets/base",
            "_model_module_version": "1.2.0",
            "_model_name": "LayoutModel",
            "_view_count": null,
            "_view_module": "@jupyter-widgets/base",
            "_view_module_version": "1.2.0",
            "_view_name": "LayoutView",
            "align_content": null,
            "align_items": null,
            "align_self": null,
            "border": null,
            "bottom": null,
            "display": null,
            "flex": null,
            "flex_flow": null,
            "grid_area": null,
            "grid_auto_columns": null,
            "grid_auto_flow": null,
            "grid_auto_rows": null,
            "grid_column": null,
            "grid_gap": null,
            "grid_row": null,
            "grid_template_areas": null,
            "grid_template_columns": null,
            "grid_template_rows": null,
            "height": null,
            "justify_content": null,
            "justify_items": null,
            "left": null,
            "margin": null,
            "max_height": null,
            "max_width": null,
            "min_height": null,
            "min_width": null,
            "object_fit": null,
            "object_position": null,
            "order": null,
            "overflow": null,
            "overflow_x": null,
            "overflow_y": null,
            "padding": null,
            "right": null,
            "top": null,
            "visibility": null,
            "width": null
          }
        },
        "d6da7197e4b945fa96081068c9f123fb": {
          "model_module": "@jupyter-widgets/output",
          "model_name": "OutputModel",
          "model_module_version": "1.0.0",
          "state": {
            "_dom_classes": [],
            "_model_module": "@jupyter-widgets/output",
            "_model_module_version": "1.0.0",
            "_model_name": "OutputModel",
            "_view_count": null,
            "_view_module": "@jupyter-widgets/output",
            "_view_module_version": "1.0.0",
            "_view_name": "OutputView",
            "layout": "IPY_MODEL_d7fdb1d74e63444cb90f4aa9df695dbf",
            "msg_id": "",
            "outputs": [
              {
                "output_type": "display_data",
                "data": {
                  "text/plain": "Downloading sky130_sram_macros.tar.zst… \u001b[38;2;249;38;114m━━━━━━━━━━━━━━━━━━━━━━━━━━━━━━━━━━━━━━\u001b[0m\u001b[38;5;237m╺\u001b[0m\u001b[38;5;237m━\u001b[0m \u001b[35m 95%\u001b[0m \u001b[36m0:00:01\u001b[0m\n",
                  "text/html": "<pre style=\"white-space:pre;overflow-x:auto;line-height:normal;font-family:Menlo,'DejaVu Sans Mono',consolas,'Courier New',monospace\">Downloading sky130_sram_macros.tar.zst… <span style=\"color: #f92672; text-decoration-color: #f92672\">━━━━━━━━━━━━━━━━━━━━━━━━━━━━━━━━━━━━━━</span><span style=\"color: #3a3a3a; text-decoration-color: #3a3a3a\">╺━</span> <span style=\"color: #800080; text-decoration-color: #800080\"> 95%</span> <span style=\"color: #008080; text-decoration-color: #008080\">0:00:01</span>\n</pre>\n"
                },
                "metadata": {}
              }
            ]
          }
        },
        "d7fdb1d74e63444cb90f4aa9df695dbf": {
          "model_module": "@jupyter-widgets/base",
          "model_name": "LayoutModel",
          "model_module_version": "1.2.0",
          "state": {
            "_model_module": "@jupyter-widgets/base",
            "_model_module_version": "1.2.0",
            "_model_name": "LayoutModel",
            "_view_count": null,
            "_view_module": "@jupyter-widgets/base",
            "_view_module_version": "1.2.0",
            "_view_name": "LayoutView",
            "align_content": null,
            "align_items": null,
            "align_self": null,
            "border": null,
            "bottom": null,
            "display": null,
            "flex": null,
            "flex_flow": null,
            "grid_area": null,
            "grid_auto_columns": null,
            "grid_auto_flow": null,
            "grid_auto_rows": null,
            "grid_column": null,
            "grid_gap": null,
            "grid_row": null,
            "grid_template_areas": null,
            "grid_template_columns": null,
            "grid_template_rows": null,
            "height": null,
            "justify_content": null,
            "justify_items": null,
            "left": null,
            "margin": null,
            "max_height": null,
            "max_width": null,
            "min_height": null,
            "min_width": null,
            "object_fit": null,
            "object_position": null,
            "order": null,
            "overflow": null,
            "overflow_x": null,
            "overflow_y": null,
            "padding": null,
            "right": null,
            "top": null,
            "visibility": null,
            "width": null
          }
        },
        "f2b139baa8a64158b12b156fa51977bf": {
          "model_module": "@jupyter-widgets/output",
          "model_name": "OutputModel",
          "model_module_version": "1.0.0",
          "state": {
            "_dom_classes": [],
            "_model_module": "@jupyter-widgets/output",
            "_model_module_version": "1.0.0",
            "_model_name": "OutputModel",
            "_view_count": null,
            "_view_module": "@jupyter-widgets/output",
            "_view_module_version": "1.0.0",
            "_view_name": "OutputView",
            "layout": "IPY_MODEL_e16b2289cd724bd1b5c9289d1811c887",
            "msg_id": "",
            "outputs": [
              {
                "output_type": "display_data",
                "data": {
                  "text/plain": "\u001b[32m⠹\u001b[0m Unpacking sky130_sram_macros.tar.zst…\n",
                  "text/html": "<pre style=\"white-space:pre;overflow-x:auto;line-height:normal;font-family:Menlo,'DejaVu Sans Mono',consolas,'Courier New',monospace\"><span style=\"color: #008000; text-decoration-color: #008000\">⠹</span> Unpacking sky130_sram_macros.tar.zst…\n</pre>\n"
                },
                "metadata": {}
              }
            ]
          }
        },
        "e16b2289cd724bd1b5c9289d1811c887": {
          "model_module": "@jupyter-widgets/base",
          "model_name": "LayoutModel",
          "model_module_version": "1.2.0",
          "state": {
            "_model_module": "@jupyter-widgets/base",
            "_model_module_version": "1.2.0",
            "_model_name": "LayoutModel",
            "_view_count": null,
            "_view_module": "@jupyter-widgets/base",
            "_view_module_version": "1.2.0",
            "_view_name": "LayoutView",
            "align_content": null,
            "align_items": null,
            "align_self": null,
            "border": null,
            "bottom": null,
            "display": null,
            "flex": null,
            "flex_flow": null,
            "grid_area": null,
            "grid_auto_columns": null,
            "grid_auto_flow": null,
            "grid_auto_rows": null,
            "grid_column": null,
            "grid_gap": null,
            "grid_row": null,
            "grid_template_areas": null,
            "grid_template_columns": null,
            "grid_template_rows": null,
            "height": null,
            "justify_content": null,
            "justify_items": null,
            "left": null,
            "margin": null,
            "max_height": null,
            "max_width": null,
            "min_height": null,
            "min_width": null,
            "object_fit": null,
            "object_position": null,
            "order": null,
            "overflow": null,
            "overflow_x": null,
            "overflow_y": null,
            "padding": null,
            "right": null,
            "top": null,
            "visibility": null,
            "width": null
          }
        }
      }
    }
  },
  "nbformat": 4,
  "nbformat_minor": 0
}